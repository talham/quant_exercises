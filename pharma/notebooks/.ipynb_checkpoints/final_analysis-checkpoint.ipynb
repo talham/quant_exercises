{
 "cells": [
  {
   "cell_type": "markdown",
   "id": "9984856f-096f-403e-84a7-c367345ec0c8",
   "metadata": {},
   "source": [
    "# Heart Patient Dataset"
   ]
  },
  {
   "cell_type": "code",
   "execution_count": 476,
   "id": "74159bf6-1fe3-4bda-ad77-863030df2a48",
   "metadata": {},
   "outputs": [],
   "source": [
    "# imports\n",
    "import pandas as pd\n",
    "import seaborn as sns\n",
    "import matplotlib.pyplot as plt\n",
    "from sklearn import linear_model as lm\n",
    "import numpy as np"
   ]
  },
  {
   "cell_type": "code",
   "execution_count": 21,
   "id": "36d6b41d-7b6b-45cd-8bf1-59fd75dcaac5",
   "metadata": {},
   "outputs": [],
   "source": [
    "from sklearn.preprocessing import PolynomialFeatures\n",
    "from patsy import dmatrices, dmatrix"
   ]
  },
  {
   "cell_type": "code",
   "execution_count": 147,
   "id": "045a9c1d-f65e-45bf-a826-33ba0d9715d7",
   "metadata": {},
   "outputs": [],
   "source": [
    "from sklearn.preprocessing import StandardScaler"
   ]
  },
  {
   "cell_type": "code",
   "execution_count": 169,
   "id": "cf4a938c-5b93-43c4-b9b4-17ea73541a27",
   "metadata": {},
   "outputs": [],
   "source": [
    "from sklearn.model_selection import train_test_split"
   ]
  },
  {
   "cell_type": "code",
   "execution_count": 175,
   "id": "0b49ac67-6210-4d28-94df-7eaaede71218",
   "metadata": {},
   "outputs": [],
   "source": [
    "from sklearn.feature_selection import SequentialFeatureSelector"
   ]
  },
  {
   "cell_type": "code",
   "execution_count": 241,
   "id": "7f11278f-5160-48c5-9948-1d8cd7d1f9bd",
   "metadata": {},
   "outputs": [],
   "source": [
    "import statsmodels.api as sm\n",
    "from statsmodels.formula.api import logit"
   ]
  },
  {
   "cell_type": "code",
   "execution_count": 2,
   "id": "a0b87a54-0cea-4ed0-97b0-bee8c3bed1e2",
   "metadata": {},
   "outputs": [],
   "source": [
    "import os\n",
    "import logging"
   ]
  },
  {
   "cell_type": "code",
   "execution_count": 3,
   "id": "2084e70f-ce86-4a43-84df-b02aff39c6e4",
   "metadata": {},
   "outputs": [],
   "source": [
    "import math"
   ]
  },
  {
   "cell_type": "markdown",
   "id": "a3782fff-7d99-47bd-8eca-7191e0b22d35",
   "metadata": {},
   "source": [
    "## 1. Load data "
   ]
  },
  {
   "cell_type": "code",
   "execution_count": 4,
   "id": "d067f728-89ee-4456-8b9d-da6f664eb364",
   "metadata": {},
   "outputs": [],
   "source": [
    "def init_logger():\n",
    "    # create logger\n",
    "    logger = logging.getLogger()\n",
    "    logger.setLevel(logging.INFO)\n",
    "    # create console handler and set level to debug\n",
    "    ch = logging.StreamHandler()\n",
    "    ch.setLevel(logging.INFO)\n",
    "\n",
    "    # create formatter\n",
    "    formatter = logging.Formatter('%(levelname)s - %(message)s')\n",
    "\n",
    "    # add formatter to ch\n",
    "    ch.setFormatter(formatter)\n",
    "\n",
    "    # add ch to logger\n",
    "    logger.addHandler(ch)\n",
    "    return logger"
   ]
  },
  {
   "cell_type": "code",
   "execution_count": 5,
   "id": "bd69f2b6-abfa-4b7b-8283-fd7829d03bfb",
   "metadata": {},
   "outputs": [],
   "source": [
    "logger = init_logger()"
   ]
  },
  {
   "cell_type": "code",
   "execution_count": 6,
   "id": "5e60f5c6-1e15-4967-abad-54b685fb76bd",
   "metadata": {},
   "outputs": [],
   "source": [
    "base=os.environ['HOME']"
   ]
  },
  {
   "cell_type": "code",
   "execution_count": 7,
   "id": "787bb2f7-fa45-43e6-afed-d3c9f28a3441",
   "metadata": {},
   "outputs": [],
   "source": [
    "location='Documents/Github/quant_exercises/pfizer/Data'"
   ]
  },
  {
   "cell_type": "code",
   "execution_count": 8,
   "id": "e7972991-6223-4d35-b3a7-103bca667197",
   "metadata": {},
   "outputs": [],
   "source": [
    "fname='heart_data.csv'"
   ]
  },
  {
   "cell_type": "code",
   "execution_count": 9,
   "id": "8bdc52f8-1e3e-4f53-b023-1b7a7f9aa6b3",
   "metadata": {},
   "outputs": [],
   "source": [
    "def read_data(location,filename):\n",
    "    \"\"\"read the data\"\"\"\n",
    "    df = pd.read_csv(os.path.join(location,filename),\n",
    "                     delimiter=',',\n",
    "                     dtype = { \n",
    "                         'age': np.float64,\n",
    "                         'sex' : np.int64,\n",
    "                         'cp': np.int64,\n",
    "                         'tresbps':np.float64,\n",
    "                         'chol': np.float64,\n",
    "                         'fps':np.int64,\n",
    "                         'restecg':np.int64,\n",
    "                         'thalach':np.float64,\n",
    "                         'exang': np.int64,\n",
    "                         'oldpeak':np.float64,\n",
    "                         'slope':np.int64,\n",
    "                         'ca':np.int64,\n",
    "                         'thal':np.int64,\n",
    "                         'target':np.int64\n",
    "                     }\n",
    "                    )\n",
    "    logger.info('read %s',os.path.join(filename))\n",
    "    return df"
   ]
  },
  {
   "cell_type": "code",
   "execution_count": 10,
   "id": "29fad38a-87bb-4a44-ba5b-d7881cb5949a",
   "metadata": {},
   "outputs": [
    {
     "name": "stderr",
     "output_type": "stream",
     "text": [
      "INFO - read heart_data.csv\n"
     ]
    }
   ],
   "source": [
    "df=read_data(os.path.join(base,location),fname)"
   ]
  },
  {
   "cell_type": "code",
   "execution_count": 11,
   "id": "df21a8b4-ba10-43e5-bb3d-2b3cc57ea65a",
   "metadata": {},
   "outputs": [
    {
     "data": {
      "text/plain": [
       "age         float64\n",
       "sex           int64\n",
       "cp            int64\n",
       "trestbps      int64\n",
       "chol        float64\n",
       "fbs           int64\n",
       "restecg       int64\n",
       "thalach     float64\n",
       "exang         int64\n",
       "oldpeak     float64\n",
       "slope         int64\n",
       "ca            int64\n",
       "thal          int64\n",
       "target        int64\n",
       "dtype: object"
      ]
     },
     "execution_count": 11,
     "metadata": {},
     "output_type": "execute_result"
    }
   ],
   "source": [
    "df.dtypes"
   ]
  },
  {
   "cell_type": "code",
   "execution_count": 12,
   "id": "33cea0fb-1fa4-45b6-875a-bd23ac5854a9",
   "metadata": {},
   "outputs": [
    {
     "data": {
      "text/html": [
       "<div>\n",
       "<style scoped>\n",
       "    .dataframe tbody tr th:only-of-type {\n",
       "        vertical-align: middle;\n",
       "    }\n",
       "\n",
       "    .dataframe tbody tr th {\n",
       "        vertical-align: top;\n",
       "    }\n",
       "\n",
       "    .dataframe thead th {\n",
       "        text-align: right;\n",
       "    }\n",
       "</style>\n",
       "<table border=\"1\" class=\"dataframe\">\n",
       "  <thead>\n",
       "    <tr style=\"text-align: right;\">\n",
       "      <th></th>\n",
       "      <th>age</th>\n",
       "      <th>sex</th>\n",
       "      <th>cp</th>\n",
       "      <th>trestbps</th>\n",
       "      <th>chol</th>\n",
       "      <th>fbs</th>\n",
       "      <th>restecg</th>\n",
       "      <th>thalach</th>\n",
       "      <th>exang</th>\n",
       "      <th>oldpeak</th>\n",
       "      <th>slope</th>\n",
       "      <th>ca</th>\n",
       "      <th>thal</th>\n",
       "      <th>target</th>\n",
       "    </tr>\n",
       "  </thead>\n",
       "  <tbody>\n",
       "    <tr>\n",
       "      <th>count</th>\n",
       "      <td>303.000000</td>\n",
       "      <td>303.000000</td>\n",
       "      <td>303.000000</td>\n",
       "      <td>303.000000</td>\n",
       "      <td>303.000000</td>\n",
       "      <td>303.000000</td>\n",
       "      <td>303.000000</td>\n",
       "      <td>303.000000</td>\n",
       "      <td>303.000000</td>\n",
       "      <td>303.000000</td>\n",
       "      <td>303.000000</td>\n",
       "      <td>303.000000</td>\n",
       "      <td>303.000000</td>\n",
       "      <td>303.000000</td>\n",
       "    </tr>\n",
       "    <tr>\n",
       "      <th>mean</th>\n",
       "      <td>54.366337</td>\n",
       "      <td>0.683168</td>\n",
       "      <td>0.966997</td>\n",
       "      <td>131.623762</td>\n",
       "      <td>246.264026</td>\n",
       "      <td>0.148515</td>\n",
       "      <td>0.528053</td>\n",
       "      <td>149.646865</td>\n",
       "      <td>0.326733</td>\n",
       "      <td>1.039604</td>\n",
       "      <td>1.399340</td>\n",
       "      <td>0.729373</td>\n",
       "      <td>2.313531</td>\n",
       "      <td>0.544554</td>\n",
       "    </tr>\n",
       "    <tr>\n",
       "      <th>std</th>\n",
       "      <td>9.082101</td>\n",
       "      <td>0.466011</td>\n",
       "      <td>1.032052</td>\n",
       "      <td>17.538143</td>\n",
       "      <td>51.830751</td>\n",
       "      <td>0.356198</td>\n",
       "      <td>0.525860</td>\n",
       "      <td>22.905161</td>\n",
       "      <td>0.469794</td>\n",
       "      <td>1.161075</td>\n",
       "      <td>0.616226</td>\n",
       "      <td>1.022606</td>\n",
       "      <td>0.612277</td>\n",
       "      <td>0.498835</td>\n",
       "    </tr>\n",
       "    <tr>\n",
       "      <th>min</th>\n",
       "      <td>29.000000</td>\n",
       "      <td>0.000000</td>\n",
       "      <td>0.000000</td>\n",
       "      <td>94.000000</td>\n",
       "      <td>126.000000</td>\n",
       "      <td>0.000000</td>\n",
       "      <td>0.000000</td>\n",
       "      <td>71.000000</td>\n",
       "      <td>0.000000</td>\n",
       "      <td>0.000000</td>\n",
       "      <td>0.000000</td>\n",
       "      <td>0.000000</td>\n",
       "      <td>0.000000</td>\n",
       "      <td>0.000000</td>\n",
       "    </tr>\n",
       "    <tr>\n",
       "      <th>25%</th>\n",
       "      <td>47.500000</td>\n",
       "      <td>0.000000</td>\n",
       "      <td>0.000000</td>\n",
       "      <td>120.000000</td>\n",
       "      <td>211.000000</td>\n",
       "      <td>0.000000</td>\n",
       "      <td>0.000000</td>\n",
       "      <td>133.500000</td>\n",
       "      <td>0.000000</td>\n",
       "      <td>0.000000</td>\n",
       "      <td>1.000000</td>\n",
       "      <td>0.000000</td>\n",
       "      <td>2.000000</td>\n",
       "      <td>0.000000</td>\n",
       "    </tr>\n",
       "    <tr>\n",
       "      <th>50%</th>\n",
       "      <td>55.000000</td>\n",
       "      <td>1.000000</td>\n",
       "      <td>1.000000</td>\n",
       "      <td>130.000000</td>\n",
       "      <td>240.000000</td>\n",
       "      <td>0.000000</td>\n",
       "      <td>1.000000</td>\n",
       "      <td>153.000000</td>\n",
       "      <td>0.000000</td>\n",
       "      <td>0.800000</td>\n",
       "      <td>1.000000</td>\n",
       "      <td>0.000000</td>\n",
       "      <td>2.000000</td>\n",
       "      <td>1.000000</td>\n",
       "    </tr>\n",
       "    <tr>\n",
       "      <th>75%</th>\n",
       "      <td>61.000000</td>\n",
       "      <td>1.000000</td>\n",
       "      <td>2.000000</td>\n",
       "      <td>140.000000</td>\n",
       "      <td>274.500000</td>\n",
       "      <td>0.000000</td>\n",
       "      <td>1.000000</td>\n",
       "      <td>166.000000</td>\n",
       "      <td>1.000000</td>\n",
       "      <td>1.600000</td>\n",
       "      <td>2.000000</td>\n",
       "      <td>1.000000</td>\n",
       "      <td>3.000000</td>\n",
       "      <td>1.000000</td>\n",
       "    </tr>\n",
       "    <tr>\n",
       "      <th>max</th>\n",
       "      <td>77.000000</td>\n",
       "      <td>1.000000</td>\n",
       "      <td>3.000000</td>\n",
       "      <td>200.000000</td>\n",
       "      <td>564.000000</td>\n",
       "      <td>1.000000</td>\n",
       "      <td>2.000000</td>\n",
       "      <td>202.000000</td>\n",
       "      <td>1.000000</td>\n",
       "      <td>6.200000</td>\n",
       "      <td>2.000000</td>\n",
       "      <td>4.000000</td>\n",
       "      <td>3.000000</td>\n",
       "      <td>1.000000</td>\n",
       "    </tr>\n",
       "  </tbody>\n",
       "</table>\n",
       "</div>"
      ],
      "text/plain": [
       "              age         sex          cp    trestbps        chol         fbs  \\\n",
       "count  303.000000  303.000000  303.000000  303.000000  303.000000  303.000000   \n",
       "mean    54.366337    0.683168    0.966997  131.623762  246.264026    0.148515   \n",
       "std      9.082101    0.466011    1.032052   17.538143   51.830751    0.356198   \n",
       "min     29.000000    0.000000    0.000000   94.000000  126.000000    0.000000   \n",
       "25%     47.500000    0.000000    0.000000  120.000000  211.000000    0.000000   \n",
       "50%     55.000000    1.000000    1.000000  130.000000  240.000000    0.000000   \n",
       "75%     61.000000    1.000000    2.000000  140.000000  274.500000    0.000000   \n",
       "max     77.000000    1.000000    3.000000  200.000000  564.000000    1.000000   \n",
       "\n",
       "          restecg     thalach       exang     oldpeak       slope          ca  \\\n",
       "count  303.000000  303.000000  303.000000  303.000000  303.000000  303.000000   \n",
       "mean     0.528053  149.646865    0.326733    1.039604    1.399340    0.729373   \n",
       "std      0.525860   22.905161    0.469794    1.161075    0.616226    1.022606   \n",
       "min      0.000000   71.000000    0.000000    0.000000    0.000000    0.000000   \n",
       "25%      0.000000  133.500000    0.000000    0.000000    1.000000    0.000000   \n",
       "50%      1.000000  153.000000    0.000000    0.800000    1.000000    0.000000   \n",
       "75%      1.000000  166.000000    1.000000    1.600000    2.000000    1.000000   \n",
       "max      2.000000  202.000000    1.000000    6.200000    2.000000    4.000000   \n",
       "\n",
       "             thal      target  \n",
       "count  303.000000  303.000000  \n",
       "mean     2.313531    0.544554  \n",
       "std      0.612277    0.498835  \n",
       "min      0.000000    0.000000  \n",
       "25%      2.000000    0.000000  \n",
       "50%      2.000000    1.000000  \n",
       "75%      3.000000    1.000000  \n",
       "max      3.000000    1.000000  "
      ]
     },
     "execution_count": 12,
     "metadata": {},
     "output_type": "execute_result"
    }
   ],
   "source": [
    "df.describe()"
   ]
  },
  {
   "cell_type": "markdown",
   "id": "7e8f33e1-b135-4c4e-91d7-69eb8bddf8bd",
   "metadata": {},
   "source": [
    "## 2. EDA Analysis "
   ]
  },
  {
   "cell_type": "code",
   "execution_count": 13,
   "id": "4220cd27-1b27-4673-9d96-9c18ec899fbc",
   "metadata": {},
   "outputs": [
    {
     "data": {
      "text/html": [
       "<div>\n",
       "<style scoped>\n",
       "    .dataframe tbody tr th:only-of-type {\n",
       "        vertical-align: middle;\n",
       "    }\n",
       "\n",
       "    .dataframe tbody tr th {\n",
       "        vertical-align: top;\n",
       "    }\n",
       "\n",
       "    .dataframe thead th {\n",
       "        text-align: right;\n",
       "    }\n",
       "</style>\n",
       "<table border=\"1\" class=\"dataframe\">\n",
       "  <thead>\n",
       "    <tr style=\"text-align: right;\">\n",
       "      <th></th>\n",
       "      <th>age</th>\n",
       "      <th>sex</th>\n",
       "      <th>cp</th>\n",
       "      <th>trestbps</th>\n",
       "      <th>chol</th>\n",
       "      <th>fbs</th>\n",
       "      <th>restecg</th>\n",
       "      <th>thalach</th>\n",
       "      <th>exang</th>\n",
       "      <th>oldpeak</th>\n",
       "      <th>slope</th>\n",
       "      <th>ca</th>\n",
       "      <th>thal</th>\n",
       "      <th>target</th>\n",
       "    </tr>\n",
       "  </thead>\n",
       "  <tbody>\n",
       "    <tr>\n",
       "      <th>age</th>\n",
       "      <td>1.000</td>\n",
       "      <td>-0.098</td>\n",
       "      <td>-0.069</td>\n",
       "      <td>0.279</td>\n",
       "      <td>0.214</td>\n",
       "      <td>0.121</td>\n",
       "      <td>-0.116</td>\n",
       "      <td>-0.399</td>\n",
       "      <td>0.097</td>\n",
       "      <td>0.210</td>\n",
       "      <td>-0.169</td>\n",
       "      <td>0.276</td>\n",
       "      <td>0.068</td>\n",
       "      <td>-0.225</td>\n",
       "    </tr>\n",
       "    <tr>\n",
       "      <th>sex</th>\n",
       "      <td>-0.098</td>\n",
       "      <td>1.000</td>\n",
       "      <td>-0.049</td>\n",
       "      <td>-0.057</td>\n",
       "      <td>-0.198</td>\n",
       "      <td>0.045</td>\n",
       "      <td>-0.058</td>\n",
       "      <td>-0.044</td>\n",
       "      <td>0.142</td>\n",
       "      <td>0.096</td>\n",
       "      <td>-0.031</td>\n",
       "      <td>0.118</td>\n",
       "      <td>0.210</td>\n",
       "      <td>-0.281</td>\n",
       "    </tr>\n",
       "    <tr>\n",
       "      <th>cp</th>\n",
       "      <td>-0.069</td>\n",
       "      <td>-0.049</td>\n",
       "      <td>1.000</td>\n",
       "      <td>0.048</td>\n",
       "      <td>-0.077</td>\n",
       "      <td>0.094</td>\n",
       "      <td>0.044</td>\n",
       "      <td>0.296</td>\n",
       "      <td>-0.394</td>\n",
       "      <td>-0.149</td>\n",
       "      <td>0.120</td>\n",
       "      <td>-0.181</td>\n",
       "      <td>-0.162</td>\n",
       "      <td>0.434</td>\n",
       "    </tr>\n",
       "    <tr>\n",
       "      <th>trestbps</th>\n",
       "      <td>0.279</td>\n",
       "      <td>-0.057</td>\n",
       "      <td>0.048</td>\n",
       "      <td>1.000</td>\n",
       "      <td>0.123</td>\n",
       "      <td>0.178</td>\n",
       "      <td>-0.114</td>\n",
       "      <td>-0.047</td>\n",
       "      <td>0.068</td>\n",
       "      <td>0.193</td>\n",
       "      <td>-0.121</td>\n",
       "      <td>0.101</td>\n",
       "      <td>0.062</td>\n",
       "      <td>-0.145</td>\n",
       "    </tr>\n",
       "    <tr>\n",
       "      <th>chol</th>\n",
       "      <td>0.214</td>\n",
       "      <td>-0.198</td>\n",
       "      <td>-0.077</td>\n",
       "      <td>0.123</td>\n",
       "      <td>1.000</td>\n",
       "      <td>0.013</td>\n",
       "      <td>-0.151</td>\n",
       "      <td>-0.010</td>\n",
       "      <td>0.067</td>\n",
       "      <td>0.054</td>\n",
       "      <td>-0.004</td>\n",
       "      <td>0.071</td>\n",
       "      <td>0.099</td>\n",
       "      <td>-0.085</td>\n",
       "    </tr>\n",
       "    <tr>\n",
       "      <th>fbs</th>\n",
       "      <td>0.121</td>\n",
       "      <td>0.045</td>\n",
       "      <td>0.094</td>\n",
       "      <td>0.178</td>\n",
       "      <td>0.013</td>\n",
       "      <td>1.000</td>\n",
       "      <td>-0.084</td>\n",
       "      <td>-0.009</td>\n",
       "      <td>0.026</td>\n",
       "      <td>0.006</td>\n",
       "      <td>-0.060</td>\n",
       "      <td>0.138</td>\n",
       "      <td>-0.032</td>\n",
       "      <td>-0.028</td>\n",
       "    </tr>\n",
       "    <tr>\n",
       "      <th>restecg</th>\n",
       "      <td>-0.116</td>\n",
       "      <td>-0.058</td>\n",
       "      <td>0.044</td>\n",
       "      <td>-0.114</td>\n",
       "      <td>-0.151</td>\n",
       "      <td>-0.084</td>\n",
       "      <td>1.000</td>\n",
       "      <td>0.044</td>\n",
       "      <td>-0.071</td>\n",
       "      <td>-0.059</td>\n",
       "      <td>0.093</td>\n",
       "      <td>-0.072</td>\n",
       "      <td>-0.012</td>\n",
       "      <td>0.137</td>\n",
       "    </tr>\n",
       "    <tr>\n",
       "      <th>thalach</th>\n",
       "      <td>-0.399</td>\n",
       "      <td>-0.044</td>\n",
       "      <td>0.296</td>\n",
       "      <td>-0.047</td>\n",
       "      <td>-0.010</td>\n",
       "      <td>-0.009</td>\n",
       "      <td>0.044</td>\n",
       "      <td>1.000</td>\n",
       "      <td>-0.379</td>\n",
       "      <td>-0.344</td>\n",
       "      <td>0.387</td>\n",
       "      <td>-0.213</td>\n",
       "      <td>-0.096</td>\n",
       "      <td>0.422</td>\n",
       "    </tr>\n",
       "    <tr>\n",
       "      <th>exang</th>\n",
       "      <td>0.097</td>\n",
       "      <td>0.142</td>\n",
       "      <td>-0.394</td>\n",
       "      <td>0.068</td>\n",
       "      <td>0.067</td>\n",
       "      <td>0.026</td>\n",
       "      <td>-0.071</td>\n",
       "      <td>-0.379</td>\n",
       "      <td>1.000</td>\n",
       "      <td>0.288</td>\n",
       "      <td>-0.258</td>\n",
       "      <td>0.116</td>\n",
       "      <td>0.207</td>\n",
       "      <td>-0.437</td>\n",
       "    </tr>\n",
       "    <tr>\n",
       "      <th>oldpeak</th>\n",
       "      <td>0.210</td>\n",
       "      <td>0.096</td>\n",
       "      <td>-0.149</td>\n",
       "      <td>0.193</td>\n",
       "      <td>0.054</td>\n",
       "      <td>0.006</td>\n",
       "      <td>-0.059</td>\n",
       "      <td>-0.344</td>\n",
       "      <td>0.288</td>\n",
       "      <td>1.000</td>\n",
       "      <td>-0.578</td>\n",
       "      <td>0.223</td>\n",
       "      <td>0.210</td>\n",
       "      <td>-0.431</td>\n",
       "    </tr>\n",
       "    <tr>\n",
       "      <th>slope</th>\n",
       "      <td>-0.169</td>\n",
       "      <td>-0.031</td>\n",
       "      <td>0.120</td>\n",
       "      <td>-0.121</td>\n",
       "      <td>-0.004</td>\n",
       "      <td>-0.060</td>\n",
       "      <td>0.093</td>\n",
       "      <td>0.387</td>\n",
       "      <td>-0.258</td>\n",
       "      <td>-0.578</td>\n",
       "      <td>1.000</td>\n",
       "      <td>-0.080</td>\n",
       "      <td>-0.105</td>\n",
       "      <td>0.346</td>\n",
       "    </tr>\n",
       "    <tr>\n",
       "      <th>ca</th>\n",
       "      <td>0.276</td>\n",
       "      <td>0.118</td>\n",
       "      <td>-0.181</td>\n",
       "      <td>0.101</td>\n",
       "      <td>0.071</td>\n",
       "      <td>0.138</td>\n",
       "      <td>-0.072</td>\n",
       "      <td>-0.213</td>\n",
       "      <td>0.116</td>\n",
       "      <td>0.223</td>\n",
       "      <td>-0.080</td>\n",
       "      <td>1.000</td>\n",
       "      <td>0.152</td>\n",
       "      <td>-0.392</td>\n",
       "    </tr>\n",
       "    <tr>\n",
       "      <th>thal</th>\n",
       "      <td>0.068</td>\n",
       "      <td>0.210</td>\n",
       "      <td>-0.162</td>\n",
       "      <td>0.062</td>\n",
       "      <td>0.099</td>\n",
       "      <td>-0.032</td>\n",
       "      <td>-0.012</td>\n",
       "      <td>-0.096</td>\n",
       "      <td>0.207</td>\n",
       "      <td>0.210</td>\n",
       "      <td>-0.105</td>\n",
       "      <td>0.152</td>\n",
       "      <td>1.000</td>\n",
       "      <td>-0.344</td>\n",
       "    </tr>\n",
       "    <tr>\n",
       "      <th>target</th>\n",
       "      <td>-0.225</td>\n",
       "      <td>-0.281</td>\n",
       "      <td>0.434</td>\n",
       "      <td>-0.145</td>\n",
       "      <td>-0.085</td>\n",
       "      <td>-0.028</td>\n",
       "      <td>0.137</td>\n",
       "      <td>0.422</td>\n",
       "      <td>-0.437</td>\n",
       "      <td>-0.431</td>\n",
       "      <td>0.346</td>\n",
       "      <td>-0.392</td>\n",
       "      <td>-0.344</td>\n",
       "      <td>1.000</td>\n",
       "    </tr>\n",
       "  </tbody>\n",
       "</table>\n",
       "</div>"
      ],
      "text/plain": [
       "            age    sex     cp  trestbps   chol    fbs  restecg  thalach  \\\n",
       "age       1.000 -0.098 -0.069     0.279  0.214  0.121   -0.116   -0.399   \n",
       "sex      -0.098  1.000 -0.049    -0.057 -0.198  0.045   -0.058   -0.044   \n",
       "cp       -0.069 -0.049  1.000     0.048 -0.077  0.094    0.044    0.296   \n",
       "trestbps  0.279 -0.057  0.048     1.000  0.123  0.178   -0.114   -0.047   \n",
       "chol      0.214 -0.198 -0.077     0.123  1.000  0.013   -0.151   -0.010   \n",
       "fbs       0.121  0.045  0.094     0.178  0.013  1.000   -0.084   -0.009   \n",
       "restecg  -0.116 -0.058  0.044    -0.114 -0.151 -0.084    1.000    0.044   \n",
       "thalach  -0.399 -0.044  0.296    -0.047 -0.010 -0.009    0.044    1.000   \n",
       "exang     0.097  0.142 -0.394     0.068  0.067  0.026   -0.071   -0.379   \n",
       "oldpeak   0.210  0.096 -0.149     0.193  0.054  0.006   -0.059   -0.344   \n",
       "slope    -0.169 -0.031  0.120    -0.121 -0.004 -0.060    0.093    0.387   \n",
       "ca        0.276  0.118 -0.181     0.101  0.071  0.138   -0.072   -0.213   \n",
       "thal      0.068  0.210 -0.162     0.062  0.099 -0.032   -0.012   -0.096   \n",
       "target   -0.225 -0.281  0.434    -0.145 -0.085 -0.028    0.137    0.422   \n",
       "\n",
       "          exang  oldpeak  slope     ca   thal  target  \n",
       "age       0.097    0.210 -0.169  0.276  0.068  -0.225  \n",
       "sex       0.142    0.096 -0.031  0.118  0.210  -0.281  \n",
       "cp       -0.394   -0.149  0.120 -0.181 -0.162   0.434  \n",
       "trestbps  0.068    0.193 -0.121  0.101  0.062  -0.145  \n",
       "chol      0.067    0.054 -0.004  0.071  0.099  -0.085  \n",
       "fbs       0.026    0.006 -0.060  0.138 -0.032  -0.028  \n",
       "restecg  -0.071   -0.059  0.093 -0.072 -0.012   0.137  \n",
       "thalach  -0.379   -0.344  0.387 -0.213 -0.096   0.422  \n",
       "exang     1.000    0.288 -0.258  0.116  0.207  -0.437  \n",
       "oldpeak   0.288    1.000 -0.578  0.223  0.210  -0.431  \n",
       "slope    -0.258   -0.578  1.000 -0.080 -0.105   0.346  \n",
       "ca        0.116    0.223 -0.080  1.000  0.152  -0.392  \n",
       "thal      0.207    0.210 -0.105  0.152  1.000  -0.344  \n",
       "target   -0.437   -0.431  0.346 -0.392 -0.344   1.000  "
      ]
     },
     "execution_count": 13,
     "metadata": {},
     "output_type": "execute_result"
    }
   ],
   "source": [
    "np.round(df.corr(),3)"
   ]
  },
  {
   "cell_type": "code",
   "execution_count": 14,
   "id": "2f5eb6f8-5d8d-42ce-8585-d2992ad3b86a",
   "metadata": {},
   "outputs": [
    {
     "data": {
      "image/png": "[encoded data removed]",
      "text/plain": [
       "<Figure size 640x480 with 2 Axes>"
      ]
     },
     "metadata": {},
     "output_type": "display_data"
    }
   ],
   "source": [
    "#plotting the heatmap for correlation\n",
    "ax = sns.heatmap(np.round(df.corr(),3), annot=False)"
   ]
  },
  {
   "cell_type": "markdown",
   "id": "d51a8f4a-e9e4-4bff-915d-048b45f005f9",
   "metadata": {},
   "source": [
    "### 2.1 Category Counts"
   ]
  },
  {
   "cell_type": "code",
   "execution_count": 107,
   "id": "b269b477-51c0-40b7-881d-baee90a0392a",
   "metadata": {},
   "outputs": [],
   "source": [
    "def category_counts(cat_var):\n",
    "    print(f\"{cat_var} counts\")\n",
    "    print(df[cat_var].value_counts(),np.round(df[cat_var].value_counts(normalize=True),3))"
   ]
  },
  {
   "cell_type": "code",
   "execution_count": 93,
   "id": "b9f9acc3-7dd2-4303-8ab8-2f64a75a6584",
   "metadata": {},
   "outputs": [
    {
     "name": "stdout",
     "output_type": "stream",
     "text": [
      "[1 0]\n"
     ]
    }
   ],
   "source": [
    "print(df['sex'].unique())"
   ]
  },
  {
   "cell_type": "code",
   "execution_count": 108,
   "id": "a1b27e2e-9f67-4a93-8896-4194f8078bc4",
   "metadata": {},
   "outputs": [
    {
     "name": "stdout",
     "output_type": "stream",
     "text": [
      "sex counts\n",
      "sex\n",
      "1    207\n",
      "0     96\n",
      "Name: count, dtype: int64 sex\n",
      "1    0.683\n",
      "0    0.317\n",
      "Name: proportion, dtype: float64\n"
     ]
    }
   ],
   "source": [
    "category_counts('sex')"
   ]
  },
  {
   "cell_type": "code",
   "execution_count": 109,
   "id": "8b587040-512b-4811-a19c-db372ddb0460",
   "metadata": {},
   "outputs": [
    {
     "name": "stdout",
     "output_type": "stream",
     "text": [
      "fbs counts\n",
      "fbs\n",
      "0    258\n",
      "1     45\n",
      "Name: count, dtype: int64 fbs\n",
      "0    0.851\n",
      "1    0.149\n",
      "Name: proportion, dtype: float64\n"
     ]
    }
   ],
   "source": [
    "category_counts('fbs')"
   ]
  },
  {
   "cell_type": "code",
   "execution_count": 110,
   "id": "79b8b4b9-f0ad-4f8f-9b0f-58b6e513d384",
   "metadata": {},
   "outputs": [
    {
     "name": "stdout",
     "output_type": "stream",
     "text": [
      "cp counts\n",
      "cp\n",
      "0    143\n",
      "2     87\n",
      "1     50\n",
      "3     23\n",
      "Name: count, dtype: int64 cp\n",
      "0    0.472\n",
      "2    0.287\n",
      "1    0.165\n",
      "3    0.076\n",
      "Name: proportion, dtype: float64\n"
     ]
    }
   ],
   "source": [
    "category_counts('cp')"
   ]
  },
  {
   "cell_type": "code",
   "execution_count": 111,
   "id": "e6a80910-beab-4a7b-b650-33a92cc46a31",
   "metadata": {},
   "outputs": [
    {
     "name": "stdout",
     "output_type": "stream",
     "text": [
      "restecg counts\n",
      "restecg\n",
      "1    152\n",
      "0    147\n",
      "2      4\n",
      "Name: count, dtype: int64 restecg\n",
      "1    0.502\n",
      "0    0.485\n",
      "2    0.013\n",
      "Name: proportion, dtype: float64\n"
     ]
    }
   ],
   "source": [
    "category_counts('restecg')"
   ]
  },
  {
   "cell_type": "code",
   "execution_count": 112,
   "id": "91386f80-ddc6-424d-b342-ad8d561c6c07",
   "metadata": {},
   "outputs": [
    {
     "name": "stdout",
     "output_type": "stream",
     "text": [
      "exang counts\n",
      "exang\n",
      "0    204\n",
      "1     99\n",
      "Name: count, dtype: int64 exang\n",
      "0    0.673\n",
      "1    0.327\n",
      "Name: proportion, dtype: float64\n"
     ]
    }
   ],
   "source": [
    "category_counts('exang')"
   ]
  },
  {
   "cell_type": "code",
   "execution_count": 113,
   "id": "0165c1a4-844a-4e8d-bdda-453240d422cc",
   "metadata": {},
   "outputs": [
    {
     "name": "stdout",
     "output_type": "stream",
     "text": [
      "slope counts\n",
      "slope\n",
      "2    142\n",
      "1    140\n",
      "0     21\n",
      "Name: count, dtype: int64 slope\n",
      "2    0.469\n",
      "1    0.462\n",
      "0    0.069\n",
      "Name: proportion, dtype: float64\n"
     ]
    }
   ],
   "source": [
    "category_counts('slope')"
   ]
  },
  {
   "cell_type": "code",
   "execution_count": 114,
   "id": "3097a789-7456-4bfb-b4c3-5ed8701ee38d",
   "metadata": {},
   "outputs": [
    {
     "name": "stdout",
     "output_type": "stream",
     "text": [
      "ca counts\n",
      "ca\n",
      "0    175\n",
      "1     65\n",
      "2     38\n",
      "3     20\n",
      "4      5\n",
      "Name: count, dtype: int64 ca\n",
      "0    0.578\n",
      "1    0.215\n",
      "2    0.125\n",
      "3    0.066\n",
      "4    0.017\n",
      "Name: proportion, dtype: float64\n"
     ]
    }
   ],
   "source": [
    "category_counts('ca')"
   ]
  },
  {
   "cell_type": "code",
   "execution_count": 115,
   "id": "8679c3bc-0a14-4aa4-897b-f45f088dec3f",
   "metadata": {},
   "outputs": [
    {
     "name": "stdout",
     "output_type": "stream",
     "text": [
      "thal counts\n",
      "thal\n",
      "2    166\n",
      "3    117\n",
      "1     18\n",
      "0      2\n",
      "Name: count, dtype: int64 thal\n",
      "2    0.548\n",
      "3    0.386\n",
      "1    0.059\n",
      "0    0.007\n",
      "Name: proportion, dtype: float64\n"
     ]
    }
   ],
   "source": [
    "category_counts('thal')"
   ]
  },
  {
   "cell_type": "markdown",
   "id": "76b3498b-dc39-4755-853c-95a267f2e572",
   "metadata": {},
   "source": [
    "### 2.2 Plots"
   ]
  },
  {
   "cell_type": "code",
   "execution_count": 16,
   "id": "a7659e5f-f986-457f-a425-1b2074abd395",
   "metadata": {},
   "outputs": [
    {
     "name": "stderr",
     "output_type": "stream",
     "text": [
      "/Users/tmuhammad/venv/heckman/lib/python3.9/site-packages/seaborn/axisgrid.py:118: UserWarning: The figure layout has changed to tight\n",
      "  self._figure.tight_layout(*args, **kwargs)\n"
     ]
    },
    {
     "data": {
      "text/plain": [
       "<seaborn.axisgrid.FacetGrid at 0x16e780730>"
      ]
     },
     "execution_count": 16,
     "metadata": {},
     "output_type": "execute_result"
    },
    {
     "data": {
      "image/png": "[encoded data removed]",
      "text/plain": [
       "<Figure size 500x500 with 1 Axes>"
      ]
     },
     "metadata": {},
     "output_type": "display_data"
    }
   ],
   "source": [
    "sns.catplot(data=df,x=\"target\", y=\"age\", kind=\"box\")"
   ]
  },
  {
   "cell_type": "code",
   "execution_count": 20,
   "id": "99ecb34c-9ec2-4581-ae24-d96f6133e30e",
   "metadata": {},
   "outputs": [
    {
     "name": "stderr",
     "output_type": "stream",
     "text": [
      "/Users/tmuhammad/venv/heckman/lib/python3.9/site-packages/seaborn/axisgrid.py:118: UserWarning: The figure layout has changed to tight\n",
      "  self._figure.tight_layout(*args, **kwargs)\n"
     ]
    },
    {
     "data": {
      "text/plain": [
       "<seaborn.axisgrid.FacetGrid at 0x16ea89400>"
      ]
     },
     "execution_count": 20,
     "metadata": {},
     "output_type": "execute_result"
    },
    {
     "data": {
      "image/png": "[encoded data removed]",
      "text/plain": [
       "<Figure size 500x500 with 1 Axes>"
      ]
     },
     "metadata": {},
     "output_type": "display_data"
    }
   ],
   "source": [
    "sns.catplot(data=df,x=\"target\", y=\"oldpeak\", kind=\"box\")"
   ]
  },
  {
   "cell_type": "code",
   "execution_count": 17,
   "id": "1997277a-31c9-4b5b-8bf2-4dec9f4caaf1",
   "metadata": {},
   "outputs": [
    {
     "name": "stderr",
     "output_type": "stream",
     "text": [
      "/Users/tmuhammad/venv/heckman/lib/python3.9/site-packages/seaborn/axisgrid.py:118: UserWarning: The figure layout has changed to tight\n",
      "  self._figure.tight_layout(*args, **kwargs)\n"
     ]
    },
    {
     "data": {
      "image/png": "[encoded data removed]",
      "text/plain": [
       "<Figure size 1000x1000 with 4 Axes>"
      ]
     },
     "metadata": {},
     "output_type": "display_data"
    }
   ],
   "source": [
    "g=sns.catplot(\n",
    "    data=pd.melt(df, id_vars=['target','sex'], value_vars=['age','chol']), x='target', y='value',\n",
    "    col='variable',row='sex', kind='box', sharey=False\n",
    ")\n",
    "g.set_xlabels(\"Heart Disease\")\n",
    "plt.suptitle(\"Has Heart Disease by Age and Chol\", y=1.01)\n",
    "plt.show()"
   ]
  },
  {
   "cell_type": "code",
   "execution_count": 18,
   "id": "a075e336-417a-4e9b-86ed-6fb6cc4a7dcb",
   "metadata": {},
   "outputs": [
    {
     "name": "stderr",
     "output_type": "stream",
     "text": [
      "/Users/tmuhammad/venv/heckman/lib/python3.9/site-packages/seaborn/axisgrid.py:118: UserWarning: The figure layout has changed to tight\n",
      "  self._figure.tight_layout(*args, **kwargs)\n"
     ]
    },
    {
     "data": {
      "image/png": "[encoded data removed]",
      "text/plain": [
       "<Figure size 1000x500 with 2 Axes>"
      ]
     },
     "metadata": {},
     "output_type": "display_data"
    }
   ],
   "source": [
    "g=sns.catplot(\n",
    "    data=pd.melt(df, id_vars=['target','exang'], value_vars=['thalach']), x='target', y='value',\n",
    "    col='exang',row='variable', kind='box', sharey=True\n",
    ")\n",
    "g.set_xlabels(\"Heart Disease\")\n",
    "plt.suptitle(\"Has Heart Disease by Max Heart Rate\", y=1.01)\n",
    "plt.show()"
   ]
  },
  {
   "cell_type": "code",
   "execution_count": 166,
   "id": "7acf236d-f073-42bf-b77b-043ce4dbef00",
   "metadata": {},
   "outputs": [
    {
     "name": "stderr",
     "output_type": "stream",
     "text": [
      "/Users/tmuhammad/venv/heckman/lib/python3.9/site-packages/seaborn/axisgrid.py:118: UserWarning: The figure layout has changed to tight\n",
      "  self._figure.tight_layout(*args, **kwargs)\n"
     ]
    },
    {
     "data": {
      "image/png": "[encoded data removed]",
      "text/plain": [
       "<Figure size 1000x500 with 2 Axes>"
      ]
     },
     "metadata": {},
     "output_type": "display_data"
    }
   ],
   "source": [
    "g=sns.catplot(\n",
    "    data=pd.melt(df, id_vars=['target','exang'], value_vars=['oldpeak']), x='target', y='value',\n",
    "    col='exang',row='variable', kind='box', sharey=True\n",
    ")\n",
    "g.set_xlabels(\"Heart Disease\")\n",
    "plt.suptitle(\"Has Heart Disease by ST Dep\", y=1.01)\n",
    "plt.show()"
   ]
  },
  {
   "cell_type": "code",
   "execution_count": 19,
   "id": "72f882c5-3a7b-470e-b38e-6f9fc236cd79",
   "metadata": {},
   "outputs": [
    {
     "name": "stderr",
     "output_type": "stream",
     "text": [
      "/Users/tmuhammad/venv/heckman/lib/python3.9/site-packages/seaborn/axisgrid.py:118: UserWarning: The figure layout has changed to tight\n",
      "  self._figure.tight_layout(*args, **kwargs)\n"
     ]
    },
    {
     "data": {
      "image/png": "[encoded data removed]",
      "text/plain": [
       "<Figure size 2000x500 with 4 Axes>"
      ]
     },
     "metadata": {},
     "output_type": "display_data"
    }
   ],
   "source": [
    "g=sns.catplot(\n",
    "    data=pd.melt(df, id_vars=['target','cp'], value_vars=['oldpeak']), x='target', y='value',\n",
    "    col='cp',row='variable', kind='box', sharey=True\n",
    ")\n",
    "g.set_xlabels(\"Heart Disease\")\n",
    "plt.suptitle(\"Has Heart Disease by Chest pain Type\", y=1.01)\n",
    "plt.show()"
   ]
  },
  {
   "cell_type": "code",
   "execution_count": 118,
   "id": "0aacb957-3c2c-48ac-b6cb-1fe41d1918de",
   "metadata": {},
   "outputs": [],
   "source": [
    "def plot_variables_against_categorical(df, categorical_var, excl_vars, num_cols=3):\n",
    "    # Get the list of all non-categorical columns (numeric variables)\n",
    "    numeric_vars = [var for var in df.columns if var not in excl_vars]\n",
    "\n",
    "    # Calculate the number of rows needed for the subplots\n",
    "    num_rows = (len(numeric_vars) + num_cols - 1) // num_cols\n",
    "\n",
    "    # Create the catplot with a box plot\n",
    "    g = sns.catplot(x=categorical_var, y=\"value\", col=\"variable\", kind=\"box\", \n",
    "                    data=pd.melt(df, id_vars=categorical_var, value_vars=numeric_vars),\n",
    "                    col_wrap=num_cols, height=5, aspect=1, sharey=False)\n",
    "\n",
    "    # Set titles for each subplot\n",
    "    for i, var in enumerate(numeric_vars):\n",
    "        g.axes.flat[i].set_title(f'{var} vs. {categorical_var}',fontsize=12)\n",
    "\n",
    "    # Adjust plot appearance\n",
    "    g.fig.suptitle(f'{categorical_var} vs. Numeric Variables', fontsize=16,y=1.02)\n",
    "    g.set_xlabels(categorical_var)\n",
    "    g.set_ylabels(\"Value\")\n",
    "\n",
    "    plt.tight_layout()\n",
    "    plt.show()"
   ]
  },
  {
   "cell_type": "code",
   "execution_count": 137,
   "id": "347f1fdc-1f26-42f4-b5aa-e6500b757bdf",
   "metadata": {},
   "outputs": [
    {
     "data": {
      "image/png": "[encoded data removed]",
      "text/plain": [
       "<Figure size 640x480 with 1 Axes>"
      ]
     },
     "metadata": {},
     "output_type": "display_data"
    }
   ],
   "source": [
    "sns.boxplot(data=df, x=\"target\", y=\"age\", )\n",
    "plt.xlabel(\"Heart Disease\")\n",
    "plt.title(\"Has Heart Disease by Age\")\n",
    "plt.show()"
   ]
  },
  {
   "cell_type": "code",
   "execution_count": 136,
   "id": "f0e05f3d-4162-4d51-b859-c37808077952",
   "metadata": {},
   "outputs": [
    {
     "data": {
      "image/png": "[encoded data removed]",
      "text/plain": [
       "<Figure size 640x480 with 1 Axes>"
      ]
     },
     "metadata": {},
     "output_type": "display_data"
    }
   ],
   "source": [
    "sns.boxplot(data=df, x=\"target\", y=\"age\", hue=\"sex\")\n",
    "plt.xlabel(\"Heart Disease\")\n",
    "plt.title(\"Has Heart Disease by Age and Sex\")\n",
    "plt.show()"
   ]
  },
  {
   "cell_type": "code",
   "execution_count": 138,
   "id": "6718254a-3e57-42eb-b600-d9817a83cb56",
   "metadata": {},
   "outputs": [
    {
     "data": {
      "image/png": "[encoded data removed]",
      "text/plain": [
       "<Figure size 640x480 with 1 Axes>"
      ]
     },
     "metadata": {},
     "output_type": "display_data"
    }
   ],
   "source": [
    "sns.boxplot(data=df, x=\"target\", y=\"chol\", hue=\"sex\")\n",
    "plt.xlabel(\"Heart Disease\")\n",
    "plt.title(\"Has Heart Disease by Cholestrol and Sex\")\n",
    "plt.show()"
   ]
  },
  {
   "cell_type": "code",
   "execution_count": 139,
   "id": "6acd003e-5fdf-40c5-929f-72c091635f29",
   "metadata": {},
   "outputs": [
    {
     "data": {
      "image/png": "[encoded data removed]",
      "text/plain": [
       "<Figure size 640x480 with 1 Axes>"
      ]
     },
     "metadata": {},
     "output_type": "display_data"
    }
   ],
   "source": [
    "sns.boxplot(data=df, x=\"target\", y=\"age\", hue=\"thal\")\n",
    "plt.xlabel(\"Heart Disease\")\n",
    "plt.title(\"Has Heart Disease by Age and Thal\")\n",
    "plt.show()"
   ]
  },
  {
   "cell_type": "code",
   "execution_count": 140,
   "id": "1d3119c2-8e77-4c42-b0ae-bb07761d6c72",
   "metadata": {},
   "outputs": [
    {
     "data": {
      "image/png": "[encoded data removed]",
      "text/plain": [
       "<Figure size 640x480 with 1 Axes>"
      ]
     },
     "metadata": {},
     "output_type": "display_data"
    }
   ],
   "source": [
    "sns.boxplot(data=df, x=\"target\", y=\"age\", hue=\"ca\")\n",
    "plt.xlabel(\"Heart Disease\")\n",
    "plt.title(\"Has Heart Disease by Age and Ca\")\n",
    "plt.show()"
   ]
  },
  {
   "cell_type": "markdown",
   "id": "d6766894-09de-45d3-ab20-6ad07359730d",
   "metadata": {},
   "source": [
    "## 3. Data Transformations"
   ]
  },
  {
   "cell_type": "code",
   "execution_count": 33,
   "id": "30a15b6d-a633-45ab-9d3e-a1727d0f8608",
   "metadata": {},
   "outputs": [
    {
     "data": {
      "text/plain": [
       "Index(['age', 'sex', 'cp', 'trestbps', 'chol', 'fbs', 'restecg', 'thalach',\n",
       "       'exang', 'oldpeak', 'slope', 'ca', 'thal', 'target'],\n",
       "      dtype='object')"
      ]
     },
     "execution_count": 33,
     "metadata": {},
     "output_type": "execute_result"
    }
   ],
   "source": [
    "df.columns"
   ]
  },
  {
   "cell_type": "code",
   "execution_count": 148,
   "id": "8f901746-0669-4f49-ac20-b200fa1c2d1e",
   "metadata": {},
   "outputs": [],
   "source": [
    "numeric_cols = ['age','trestbps','chol','thalach','oldpeak']"
   ]
  },
  {
   "cell_type": "code",
   "execution_count": 149,
   "id": "72ea13fb-8dfa-44ab-be18-9bcc90f96893",
   "metadata": {},
   "outputs": [
    {
     "data": {
      "text/html": [
       "<style>#sk-container-id-1 {color: black;}#sk-container-id-1 pre{padding: 0;}#sk-container-id-1 div.sk-toggleable {background-color: white;}#sk-container-id-1 label.sk-toggleable__label {cursor: pointer;display: block;width: 100%;margin-bottom: 0;padding: 0.3em;box-sizing: border-box;text-align: center;}#sk-container-id-1 label.sk-toggleable__label-arrow:before {content: \"▸\";float: left;margin-right: 0.25em;color: #696969;}#sk-container-id-1 label.sk-toggleable__label-arrow:hover:before {color: black;}#sk-container-id-1 div.sk-estimator:hover label.sk-toggleable__label-arrow:before {color: black;}#sk-container-id-1 div.sk-toggleable__content {max-height: 0;max-width: 0;overflow: hidden;text-align: left;background-color: #f0f8ff;}#sk-container-id-1 div.sk-toggleable__content pre {margin: 0.2em;color: black;border-radius: 0.25em;background-color: #f0f8ff;}#sk-container-id-1 input.sk-toggleable__control:checked~div.sk-toggleable__content {max-height: 200px;max-width: 100%;overflow: auto;}#sk-container-id-1 input.sk-toggleable__control:checked~label.sk-toggleable__label-arrow:before {content: \"▾\";}#sk-container-id-1 div.sk-estimator input.sk-toggleable__control:checked~label.sk-toggleable__label {background-color: #d4ebff;}#sk-container-id-1 div.sk-label input.sk-toggleable__control:checked~label.sk-toggleable__label {background-color: #d4ebff;}#sk-container-id-1 input.sk-hidden--visually {border: 0;clip: rect(1px 1px 1px 1px);clip: rect(1px, 1px, 1px, 1px);height: 1px;margin: -1px;overflow: hidden;padding: 0;position: absolute;width: 1px;}#sk-container-id-1 div.sk-estimator {font-family: monospace;background-color: #f0f8ff;border: 1px dotted black;border-radius: 0.25em;box-sizing: border-box;margin-bottom: 0.5em;}#sk-container-id-1 div.sk-estimator:hover {background-color: #d4ebff;}#sk-container-id-1 div.sk-parallel-item::after {content: \"\";width: 100%;border-bottom: 1px solid gray;flex-grow: 1;}#sk-container-id-1 div.sk-label:hover label.sk-toggleable__label {background-color: #d4ebff;}#sk-container-id-1 div.sk-serial::before {content: \"\";position: absolute;border-left: 1px solid gray;box-sizing: border-box;top: 0;bottom: 0;left: 50%;z-index: 0;}#sk-container-id-1 div.sk-serial {display: flex;flex-direction: column;align-items: center;background-color: white;padding-right: 0.2em;padding-left: 0.2em;position: relative;}#sk-container-id-1 div.sk-item {position: relative;z-index: 1;}#sk-container-id-1 div.sk-parallel {display: flex;align-items: stretch;justify-content: center;background-color: white;position: relative;}#sk-container-id-1 div.sk-item::before, #sk-container-id-1 div.sk-parallel-item::before {content: \"\";position: absolute;border-left: 1px solid gray;box-sizing: border-box;top: 0;bottom: 0;left: 50%;z-index: -1;}#sk-container-id-1 div.sk-parallel-item {display: flex;flex-direction: column;z-index: 1;position: relative;background-color: white;}#sk-container-id-1 div.sk-parallel-item:first-child::after {align-self: flex-end;width: 50%;}#sk-container-id-1 div.sk-parallel-item:last-child::after {align-self: flex-start;width: 50%;}#sk-container-id-1 div.sk-parallel-item:only-child::after {width: 0;}#sk-container-id-1 div.sk-dashed-wrapped {border: 1px dashed gray;margin: 0 0.4em 0.5em 0.4em;box-sizing: border-box;padding-bottom: 0.4em;background-color: white;}#sk-container-id-1 div.sk-label label {font-family: monospace;font-weight: bold;display: inline-block;line-height: 1.2em;}#sk-container-id-1 div.sk-label-container {text-align: center;}#sk-container-id-1 div.sk-container {/* jupyter's `normalize.less` sets `[hidden] { display: none; }` but bootstrap.min.css set `[hidden] { display: none !important; }` so we also need the `!important` here to be able to override the default hidden behavior on the sphinx rendered scikit-learn.org. See: https://github.com/scikit-learn/scikit-learn/issues/21755 */display: inline-block !important;position: relative;}#sk-container-id-1 div.sk-text-repr-fallback {display: none;}</style><div id=\"sk-container-id-1\" class=\"sk-top-container\"><div class=\"sk-text-repr-fallback\"><pre>StandardScaler()</pre><b>In a Jupyter environment, please rerun this cell to show the HTML representation or trust the notebook. <br />On GitHub, the HTML representation is unable to render, please try loading this page with nbviewer.org.</b></div><div class=\"sk-container\" hidden><div class=\"sk-item\"><div class=\"sk-estimator sk-toggleable\"><input class=\"sk-toggleable__control sk-hidden--visually\" id=\"sk-estimator-id-1\" type=\"checkbox\" checked><label for=\"sk-estimator-id-1\" class=\"sk-toggleable__label sk-toggleable__label-arrow\">StandardScaler</label><div class=\"sk-toggleable__content\"><pre>StandardScaler()</pre></div></div></div></div></div>"
      ],
      "text/plain": [
       "StandardScaler()"
      ]
     },
     "execution_count": 149,
     "metadata": {},
     "output_type": "execute_result"
    }
   ],
   "source": [
    "scaler = StandardScaler()\n",
    "scaler.fit(df[numeric_cols])"
   ]
  },
  {
   "cell_type": "code",
   "execution_count": 158,
   "id": "68913624-c316-4225-8bbc-52d46c83a4c1",
   "metadata": {},
   "outputs": [],
   "source": [
    "df_scaled=pd.DataFrame(scaler.transform(df[numeric_cols]),columns=numeric_cols,index=df.index)"
   ]
  },
  {
   "cell_type": "code",
   "execution_count": 159,
   "id": "4b0283de-854d-456f-b283-4b3d14d3ceb3",
   "metadata": {},
   "outputs": [
    {
     "data": {
      "text/html": [
       "<div>\n",
       "<style scoped>\n",
       "    .dataframe tbody tr th:only-of-type {\n",
       "        vertical-align: middle;\n",
       "    }\n",
       "\n",
       "    .dataframe tbody tr th {\n",
       "        vertical-align: top;\n",
       "    }\n",
       "\n",
       "    .dataframe thead th {\n",
       "        text-align: right;\n",
       "    }\n",
       "</style>\n",
       "<table border=\"1\" class=\"dataframe\">\n",
       "  <thead>\n",
       "    <tr style=\"text-align: right;\">\n",
       "      <th></th>\n",
       "      <th>age</th>\n",
       "      <th>trestbps</th>\n",
       "      <th>chol</th>\n",
       "      <th>thalach</th>\n",
       "      <th>oldpeak</th>\n",
       "    </tr>\n",
       "  </thead>\n",
       "  <tbody>\n",
       "    <tr>\n",
       "      <th>0</th>\n",
       "      <td>0.952197</td>\n",
       "      <td>0.763956</td>\n",
       "      <td>-0.256334</td>\n",
       "      <td>0.015443</td>\n",
       "      <td>1.087338</td>\n",
       "    </tr>\n",
       "    <tr>\n",
       "      <th>1</th>\n",
       "      <td>-1.915313</td>\n",
       "      <td>-0.092738</td>\n",
       "      <td>0.072199</td>\n",
       "      <td>1.633471</td>\n",
       "      <td>2.122573</td>\n",
       "    </tr>\n",
       "    <tr>\n",
       "      <th>2</th>\n",
       "      <td>-1.474158</td>\n",
       "      <td>-0.092738</td>\n",
       "      <td>-0.816773</td>\n",
       "      <td>0.977514</td>\n",
       "      <td>0.310912</td>\n",
       "    </tr>\n",
       "    <tr>\n",
       "      <th>3</th>\n",
       "      <td>0.180175</td>\n",
       "      <td>-0.663867</td>\n",
       "      <td>-0.198357</td>\n",
       "      <td>1.239897</td>\n",
       "      <td>-0.206705</td>\n",
       "    </tr>\n",
       "    <tr>\n",
       "      <th>4</th>\n",
       "      <td>0.290464</td>\n",
       "      <td>-0.663867</td>\n",
       "      <td>2.082050</td>\n",
       "      <td>0.583939</td>\n",
       "      <td>-0.379244</td>\n",
       "    </tr>\n",
       "  </tbody>\n",
       "</table>\n",
       "</div>"
      ],
      "text/plain": [
       "        age  trestbps      chol   thalach   oldpeak\n",
       "0  0.952197  0.763956 -0.256334  0.015443  1.087338\n",
       "1 -1.915313 -0.092738  0.072199  1.633471  2.122573\n",
       "2 -1.474158 -0.092738 -0.816773  0.977514  0.310912\n",
       "3  0.180175 -0.663867 -0.198357  1.239897 -0.206705\n",
       "4  0.290464 -0.663867  2.082050  0.583939 -0.379244"
      ]
     },
     "execution_count": 159,
     "metadata": {},
     "output_type": "execute_result"
    }
   ],
   "source": [
    "df_scaled.head()"
   ]
  },
  {
   "cell_type": "code",
   "execution_count": 168,
   "id": "b2c1c154-c28f-43bf-be1d-1db12d467d2b",
   "metadata": {},
   "outputs": [
    {
     "data": {
      "text/html": [
       "<div>\n",
       "<style scoped>\n",
       "    .dataframe tbody tr th:only-of-type {\n",
       "        vertical-align: middle;\n",
       "    }\n",
       "\n",
       "    .dataframe tbody tr th {\n",
       "        vertical-align: top;\n",
       "    }\n",
       "\n",
       "    .dataframe thead th {\n",
       "        text-align: right;\n",
       "    }\n",
       "</style>\n",
       "<table border=\"1\" class=\"dataframe\">\n",
       "  <thead>\n",
       "    <tr style=\"text-align: right;\">\n",
       "      <th></th>\n",
       "      <th>age</th>\n",
       "      <th>trestbps</th>\n",
       "      <th>chol</th>\n",
       "      <th>thalach</th>\n",
       "      <th>oldpeak</th>\n",
       "    </tr>\n",
       "  </thead>\n",
       "  <tbody>\n",
       "    <tr>\n",
       "      <th>0</th>\n",
       "      <td>63.0</td>\n",
       "      <td>145</td>\n",
       "      <td>233.0</td>\n",
       "      <td>150.0</td>\n",
       "      <td>2.3</td>\n",
       "    </tr>\n",
       "    <tr>\n",
       "      <th>1</th>\n",
       "      <td>37.0</td>\n",
       "      <td>130</td>\n",
       "      <td>250.0</td>\n",
       "      <td>187.0</td>\n",
       "      <td>3.5</td>\n",
       "    </tr>\n",
       "    <tr>\n",
       "      <th>2</th>\n",
       "      <td>41.0</td>\n",
       "      <td>130</td>\n",
       "      <td>204.0</td>\n",
       "      <td>172.0</td>\n",
       "      <td>1.4</td>\n",
       "    </tr>\n",
       "    <tr>\n",
       "      <th>3</th>\n",
       "      <td>56.0</td>\n",
       "      <td>120</td>\n",
       "      <td>236.0</td>\n",
       "      <td>178.0</td>\n",
       "      <td>0.8</td>\n",
       "    </tr>\n",
       "    <tr>\n",
       "      <th>4</th>\n",
       "      <td>57.0</td>\n",
       "      <td>120</td>\n",
       "      <td>354.0</td>\n",
       "      <td>163.0</td>\n",
       "      <td>0.6</td>\n",
       "    </tr>\n",
       "  </tbody>\n",
       "</table>\n",
       "</div>"
      ],
      "text/plain": [
       "    age  trestbps   chol  thalach  oldpeak\n",
       "0  63.0       145  233.0    150.0      2.3\n",
       "1  37.0       130  250.0    187.0      3.5\n",
       "2  41.0       130  204.0    172.0      1.4\n",
       "3  56.0       120  236.0    178.0      0.8\n",
       "4  57.0       120  354.0    163.0      0.6"
      ]
     },
     "execution_count": 168,
     "metadata": {},
     "output_type": "execute_result"
    }
   ],
   "source": [
    "df[numeric_cols].head()"
   ]
  },
  {
   "cell_type": "code",
   "execution_count": 118,
   "id": "b19840b3-1e2e-430d-9e9e-bceb256ef3e3",
   "metadata": {},
   "outputs": [
    {
     "name": "stderr",
     "output_type": "stream",
     "text": [
      "INFO - Add dummy transformations\n"
     ]
    }
   ],
   "source": [
    "logger.info('Add dummy transformations')\n",
    "df_dummy=pd.get_dummies(df,columns=['sex','cp','fbs','restecg','exang','slope','ca','thal'],\n",
    "               prefix=['sex','cp','fbs','restecg','exang','slope','ca','thal'])"
   ]
  },
  {
   "cell_type": "code",
   "execution_count": 120,
   "id": "d9fe9ed0-afd3-4e88-b37b-33d03dfc0339",
   "metadata": {},
   "outputs": [
    {
     "data": {
      "text/plain": [
       "Index(['age', 'trestbps', 'chol', 'thalach', 'oldpeak', 'target', 'sex_0',\n",
       "       'sex_1', 'cp_0', 'cp_1', 'cp_2', 'cp_3', 'fbs_0', 'fbs_1', 'restecg_0',\n",
       "       'restecg_1', 'restecg_2', 'exang_0', 'exang_1', 'slope_0', 'slope_1',\n",
       "       'slope_2', 'ca_0', 'ca_1', 'ca_2', 'ca_3', 'ca_4', 'thal_0', 'thal_1',\n",
       "       'thal_2', 'thal_3'],\n",
       "      dtype='object')"
      ]
     },
     "execution_count": 120,
     "metadata": {},
     "output_type": "execute_result"
    }
   ],
   "source": [
    "df_dummy.columns"
   ]
  },
  {
   "cell_type": "code",
   "execution_count": 479,
   "id": "167124a5-b74f-4171-9bde-e4d3f7ca2f27",
   "metadata": {},
   "outputs": [
    {
     "data": {
      "text/html": [
       "<div>\n",
       "<style scoped>\n",
       "    .dataframe tbody tr th:only-of-type {\n",
       "        vertical-align: middle;\n",
       "    }\n",
       "\n",
       "    .dataframe tbody tr th {\n",
       "        vertical-align: top;\n",
       "    }\n",
       "\n",
       "    .dataframe thead th {\n",
       "        text-align: right;\n",
       "    }\n",
       "</style>\n",
       "<table border=\"1\" class=\"dataframe\">\n",
       "  <thead>\n",
       "    <tr style=\"text-align: right;\">\n",
       "      <th></th>\n",
       "      <th>age</th>\n",
       "      <th>trestbps</th>\n",
       "      <th>chol</th>\n",
       "      <th>thalach</th>\n",
       "      <th>oldpeak</th>\n",
       "      <th>target</th>\n",
       "      <th>sex_0</th>\n",
       "      <th>sex_1</th>\n",
       "      <th>cp_0</th>\n",
       "      <th>cp_1</th>\n",
       "      <th>...</th>\n",
       "      <th>slope_1</th>\n",
       "      <th>slope_2</th>\n",
       "      <th>ca_1</th>\n",
       "      <th>ca_2</th>\n",
       "      <th>ca_3</th>\n",
       "      <th>ca_4</th>\n",
       "      <th>thal_0</th>\n",
       "      <th>thal_1</th>\n",
       "      <th>thal_2</th>\n",
       "      <th>thal_3</th>\n",
       "    </tr>\n",
       "    <tr>\n",
       "      <th>ca_0</th>\n",
       "      <th></th>\n",
       "      <th></th>\n",
       "      <th></th>\n",
       "      <th></th>\n",
       "      <th></th>\n",
       "      <th></th>\n",
       "      <th></th>\n",
       "      <th></th>\n",
       "      <th></th>\n",
       "      <th></th>\n",
       "      <th></th>\n",
       "      <th></th>\n",
       "      <th></th>\n",
       "      <th></th>\n",
       "      <th></th>\n",
       "      <th></th>\n",
       "      <th></th>\n",
       "      <th></th>\n",
       "      <th></th>\n",
       "      <th></th>\n",
       "      <th></th>\n",
       "    </tr>\n",
       "  </thead>\n",
       "  <tbody>\n",
       "    <tr>\n",
       "      <th>False</th>\n",
       "      <td>128</td>\n",
       "      <td>128</td>\n",
       "      <td>128</td>\n",
       "      <td>128</td>\n",
       "      <td>128</td>\n",
       "      <td>128</td>\n",
       "      <td>128</td>\n",
       "      <td>128</td>\n",
       "      <td>128</td>\n",
       "      <td>128</td>\n",
       "      <td>...</td>\n",
       "      <td>128</td>\n",
       "      <td>128</td>\n",
       "      <td>128</td>\n",
       "      <td>128</td>\n",
       "      <td>128</td>\n",
       "      <td>128</td>\n",
       "      <td>128</td>\n",
       "      <td>128</td>\n",
       "      <td>128</td>\n",
       "      <td>128</td>\n",
       "    </tr>\n",
       "    <tr>\n",
       "      <th>True</th>\n",
       "      <td>175</td>\n",
       "      <td>175</td>\n",
       "      <td>175</td>\n",
       "      <td>175</td>\n",
       "      <td>175</td>\n",
       "      <td>175</td>\n",
       "      <td>175</td>\n",
       "      <td>175</td>\n",
       "      <td>175</td>\n",
       "      <td>175</td>\n",
       "      <td>...</td>\n",
       "      <td>175</td>\n",
       "      <td>175</td>\n",
       "      <td>175</td>\n",
       "      <td>175</td>\n",
       "      <td>175</td>\n",
       "      <td>175</td>\n",
       "      <td>175</td>\n",
       "      <td>175</td>\n",
       "      <td>175</td>\n",
       "      <td>175</td>\n",
       "    </tr>\n",
       "  </tbody>\n",
       "</table>\n",
       "<p>2 rows × 30 columns</p>\n",
       "</div>"
      ],
      "text/plain": [
       "       age  trestbps  chol  thalach  oldpeak  target  sex_0  sex_1  cp_0  \\\n",
       "ca_0                                                                       \n",
       "False  128       128   128      128      128     128    128    128   128   \n",
       "True   175       175   175      175      175     175    175    175   175   \n",
       "\n",
       "       cp_1  ...  slope_1  slope_2  ca_1  ca_2  ca_3  ca_4  thal_0  thal_1  \\\n",
       "ca_0         ...                                                             \n",
       "False   128  ...      128      128   128   128   128   128     128     128   \n",
       "True    175  ...      175      175   175   175   175   175     175     175   \n",
       "\n",
       "       thal_2  thal_3  \n",
       "ca_0                   \n",
       "False     128     128  \n",
       "True      175     175  \n",
       "\n",
       "[2 rows x 30 columns]"
      ]
     },
     "execution_count": 479,
     "metadata": {},
     "output_type": "execute_result"
    }
   ],
   "source": [
    "df_dummy.groupby(by='ca_0').count()"
   ]
  },
  {
   "cell_type": "code",
   "execution_count": 478,
   "id": "c239fc4c-1a49-4199-8952-92ee7e55a2f3",
   "metadata": {},
   "outputs": [
    {
     "data": {
      "text/plain": [
       "ca_0\n",
       "False    0.273438\n",
       "True     0.742857\n",
       "Name: target, dtype: float64"
      ]
     },
     "execution_count": 478,
     "metadata": {},
     "output_type": "execute_result"
    }
   ],
   "source": [
    "df_dummy.groupby(by='ca_0')['target'].mean()"
   ]
  },
  {
   "cell_type": "code",
   "execution_count": 162,
   "id": "1402a98d-e9c3-4919-87b3-81827020b4ec",
   "metadata": {},
   "outputs": [
    {
     "name": "stderr",
     "output_type": "stream",
     "text": [
      "INFO - Add scaled variables to the data\n"
     ]
    }
   ],
   "source": [
    "logger.info('Add scaled variables to the data')\n",
    "df_scaled=pd.merge(df_dummy.drop(columns=numeric_cols,inplace=False),df_scaled,left_index=True,right_index=True)"
   ]
  },
  {
   "cell_type": "code",
   "execution_count": 163,
   "id": "77914d49-d30b-49ff-8a40-ac88d0405fd0",
   "metadata": {},
   "outputs": [],
   "source": [
    "variable_def='target ~ age + trestbps+chol+thalach+oldpeak \\\n",
    "              +sex_1 + cp_0 + cp_1 + cp_2 + fbs_1+ restecg_0+restecg_2 + exang_1 + slope_0 + slope_1 + ca_0 + ca_1 + ca_2 + ca_4 \\\n",
    "              +thal_0 + thal_1 + thal_2 \\\n",
    "              +cp_0:age+cp_0:trestbps+cp_0:chol+cp_0:thalach+cp_0:oldpeak \\\n",
    "              +sex_1:age+sex_1:trestbps+sex_1:chol+sex_1:thalach+sex_1:oldpeak \\\n",
    "              +cp_1:age+cp_1:trestbps+cp_1:chol+cp_1:thalach+cp_1:oldpeak \\\n",
    "              +cp_2:age+cp_2:trestbps+cp_2:chol+cp_2:thalach+cp_2:oldpeak \\\n",
    "              +fbs_1:age+fbs_1:trestbps+fbs_1:chol+fbs_1:thalach+fbs_1:oldpeak \\\n",
    "              +restecg_0:age+restecg_0:trestbps+restecg_0:chol+restecg_0:thalach+restecg_0:oldpeak \\\n",
    "              +restecg_2:age+restecg_2:trestbps+restecg_2:chol+restecg_2:thalach+restecg_2:oldpeak \\\n",
    "              +exang_1:age+exang_1:trestbps+exang_1:chol+exang_1:thalach+exang_1:oldpeak \\\n",
    "              +slope_0:age+slope_0:trestbps+slope_0:chol+slope_0:thalach+slope_0:oldpeak \\\n",
    "              +slope_1:age+slope_1:trestbps+slope_1:chol+slope_1:thalach+slope_1:oldpeak \\\n",
    "              +ca_0:age+ca_0:trestbps+ca_0:chol+ca_0:thalach+ca_0:oldpeak \\\n",
    "              +ca_1:age+ca_1:trestbps+ca_1:chol+ca_1:thalach+ca_1:oldpeak \\\n",
    "              +ca_2:age+ca_2:trestbps+ca_2:chol+ca_2:thalach+ca_2:oldpeak \\\n",
    "              +ca_4:age+ca_4:trestbps+ca_4:chol+ca_4:thalach+ca_4:oldpeak \\\n",
    "              +thal_0:age+thal_0:trestbps+thal_0:chol+thal_0:thalach+thal_0:oldpeak \\\n",
    "              +thal_1:age+thal_1:trestbps+thal_1:chol+thal_1:thalach+thal_1:oldpeak \\\n",
    "              +thal_2:age+thal_2:trestbps+thal_2:chol+thal_2:thalach+thal_2:oldpeak'"
   ]
  },
  {
   "cell_type": "code",
   "execution_count": 165,
   "id": "d59869f3-f892-46f1-8172-43d5498cbd67",
   "metadata": {},
   "outputs": [
    {
     "name": "stderr",
     "output_type": "stream",
     "text": [
      "INFO - Create interaction terms for logistic regression - unscaled\n"
     ]
    }
   ],
   "source": [
    "logger.info('Create interaction terms for logistic regression - unscaled')\n",
    "# dropping base categories sex_0, cp_3, fbs_0, restecg_1, ca_3, thal_3\n",
    "y,X=dmatrices(variable_def, df_dummy)"
   ]
  },
  {
   "cell_type": "code",
   "execution_count": 166,
   "id": "3f2e652f-dac8-4429-83e0-d18131b2acbe",
   "metadata": {},
   "outputs": [
    {
     "name": "stderr",
     "output_type": "stream",
     "text": [
      "INFO - Create interaction terms for logistic regression - scaled\n"
     ]
    }
   ],
   "source": [
    "logger.info('Create interaction terms for logistic regression - scaled')\n",
    "# dropping base categories sex_0, cp_3, fbs_0, restecg_1, ca_3, thal_3\n",
    "y_scale,X_scale=dmatrices(variable_def, df_scaled)"
   ]
  },
  {
   "cell_type": "code",
   "execution_count": 132,
   "id": "e00b77d5-6037-4dee-90c5-21044357ab9a",
   "metadata": {},
   "outputs": [],
   "source": [
    "Xd=dmatrix('age + trestbps+chol+thalach+oldpeak \\\n",
    "              +sex_1 + cp_0 + cp_1 + cp_2 + fbs_1+ restecg_0+restecg_2 + exang_1 + slope_0 + slope_1 + ca_0 + ca_1 + ca_2 + ca_4 \\\n",
    "              +thal_0 + thal_1 + thal_2', df_dummy)"
   ]
  },
  {
   "cell_type": "markdown",
   "id": "9648ee89-4d36-42aa-bd71-3568127bd998",
   "metadata": {},
   "source": [
    "## 4. Model Estimation"
   ]
  },
  {
   "cell_type": "code",
   "execution_count": 170,
   "id": "e97da412-4c2d-4e62-8782-1e0826020376",
   "metadata": {},
   "outputs": [
    {
     "name": "stderr",
     "output_type": "stream",
     "text": [
      "INFO - create training and test splits\n"
     ]
    }
   ],
   "source": [
    "logger.info(\"create training and test splits\")\n",
    "X_train, X_test, y_train, y_test = train_test_split(X_scale, y_scale, random_state=42,test_size=0.2)"
   ]
  },
  {
   "cell_type": "code",
   "execution_count": 174,
   "id": "7e5ef97a-91cf-410a-b53a-01c1f9283d81",
   "metadata": {},
   "outputs": [
    {
     "data": {
      "text/plain": [
       "((242, 108), (242, 1))"
      ]
     },
     "execution_count": 174,
     "metadata": {},
     "output_type": "execute_result"
    }
   ],
   "source": [
    "X_train.shape,y_train.shape"
   ]
  },
  {
   "cell_type": "markdown",
   "id": "7aece2f6-69c5-4663-a435-e2a81efb0f78",
   "metadata": {},
   "source": [
    "### 4.1 Model Estimation"
   ]
  },
  {
   "cell_type": "code",
   "execution_count": 383,
   "id": "41bd4b15-9451-4031-8c9e-45a50f2ed02a",
   "metadata": {},
   "outputs": [],
   "source": [
    "clf = lm.LogisticRegression(penalty='l2', fit_intercept=True)"
   ]
  },
  {
   "cell_type": "code",
   "execution_count": 384,
   "id": "05ee6e31-7af7-4888-9d86-3c3b44a81d39",
   "metadata": {},
   "outputs": [],
   "source": [
    "model_nums=[x for x in range(0,10)]\n",
    "num_features=[x+2 for x in model_nums]"
   ]
  },
  {
   "cell_type": "code",
   "execution_count": 195,
   "id": "f3fc24a9-c6f2-45de-87d6-f8bfee97e5bb",
   "metadata": {},
   "outputs": [],
   "source": [
    "sfs_forward = SequentialFeatureSelector(clf, \n",
    "                                        n_features_to_select=2, direction=\"forward\").fit(X_scale[:,1:],\n",
    "                                                                                         y_scale.reshape(y_scale.shape[0]))"
   ]
  },
  {
   "cell_type": "code",
   "execution_count": 385,
   "id": "56c97550-52d4-4bad-9672-2b2a691b1d95",
   "metadata": {},
   "outputs": [
    {
     "name": "stderr",
     "output_type": "stream",
     "text": [
      "INFO - forward selection for model 0\n",
      "INFO - forward selection for model 1\n",
      "INFO - forward selection for model 2\n",
      "INFO - forward selection for model 3\n",
      "INFO - forward selection for model 4\n",
      "INFO - forward selection for model 5\n",
      "INFO - forward selection for model 6\n",
      "INFO - forward selection for model 7\n",
      "INFO - forward selection for model 8\n",
      "INFO - forward selection for model 9\n",
      "INFO - completed forward selection for all models\n"
     ]
    }
   ],
   "source": [
    "sfs_forward_output={}\n",
    "for i in model_nums:\n",
    "   logger.info('forward selection for model %s',i)\n",
    "   sfs_forward_output[i] = SequentialFeatureSelector(clf, \n",
    "                                        n_features_to_select=num_features[i], direction=\"forward\").fit(X_train[:,1:],\n",
    "                                                                                         y_train.reshape(y_train.shape[0]))\n",
    "logger.info('completed forward selection for all models')"
   ]
  },
  {
   "cell_type": "code",
   "execution_count": 204,
   "id": "228f1bed-53c5-4434-acf1-225a01cf6ff4",
   "metadata": {},
   "outputs": [],
   "source": [
    "scaled_names=X_scale.design_info.column_names[1:]"
   ]
  },
  {
   "cell_type": "code",
   "execution_count": 386,
   "id": "fb50294e-dd37-4f53-b989-b8c8f7dfe4c0",
   "metadata": {},
   "outputs": [],
   "source": [
    "selected_vars_output={}\n",
    "for j in model_nums:\n",
    "   selected_vars_output[j]=[scaled_names[i] for i in range(len(scaled_names)) if sfs_forward_output[j].get_support()[i]==True]\n",
    "   selected_vars_output[j]=['Intercept']+selected_vars_output[j]"
   ]
  },
  {
   "cell_type": "markdown",
   "id": "19787278-74b9-4a2f-af28-2fc7226522d0",
   "metadata": {},
   "source": [
    "### 4.2 Model selection"
   ]
  },
  {
   "cell_type": "code",
   "execution_count": 251,
   "id": "346912d4-f6f0-4d14-b306-147a962d6104",
   "metadata": {},
   "outputs": [],
   "source": [
    "column_dict=X_scale.design_info.column_name_indexes"
   ]
  },
  {
   "cell_type": "code",
   "execution_count": 387,
   "id": "27070603-69c5-4ee4-83d4-fe7b8966ab7c",
   "metadata": {},
   "outputs": [],
   "source": [
    "# get the indices for all selected variables in models\n",
    "selected_index_output={}\n",
    "for j in model_nums:\n",
    "    selected_index_output[j]=[column_dict[x] for x in selected_vars_output[j]]"
   ]
  },
  {
   "cell_type": "code",
   "execution_count": 424,
   "id": "d42a989c-e93a-4b6a-80c8-7571fb28c04a",
   "metadata": {},
   "outputs": [],
   "source": [
    "clf_no_intercept = lm.LogisticRegression(penalty=None, fit_intercept=False)"
   ]
  },
  {
   "cell_type": "code",
   "execution_count": 425,
   "id": "fed9d2af-4fdf-4046-b040-08b700dea2c5",
   "metadata": {},
   "outputs": [
    {
     "name": "stderr",
     "output_type": "stream",
     "text": [
      "INFO - Estimating models and scores for all models\n",
      "INFO - Calculated all accuracy scores\n"
     ]
    }
   ],
   "source": [
    "models_all_output={}\n",
    "training_scores_output={}\n",
    "testing_scores_output={}\n",
    "logger.info(\"Estimating models and scores for all models\")\n",
    "for j in model_nums:\n",
    "    models_all_output[j]=clf_no_intercept.fit(X_train[:,selected_index_output[j]],y_train.reshape(y_train.shape[0]))\n",
    "    training_scores_output[j]=models_all_output[j].score(X_train[:,selected_index_output[j]],y_train.reshape(y_train.shape[0]))\n",
    "    testing_scores_output[j]=models_all_output[j].score(X_test[:,selected_index_output[j]],y_test.reshape(y_test.shape[0]))\n",
    "logger.info(\"Calculated all accuracy scores\")"
   ]
  },
  {
   "cell_type": "code",
   "execution_count": 426,
   "id": "3d5e2a52-ab59-477f-a9ea-cd27bfdc6bd7",
   "metadata": {},
   "outputs": [],
   "source": [
    "results_df=pd.concat([pd.DataFrame.from_dict(training_scores_output,orient='index'),pd.DataFrame.from_dict(testing_scores_output,orient='index')]\n",
    "          ,axis='columns',ignore_index=False)\n",
    "results_df.columns=['training_scores','test_scores']"
   ]
  },
  {
   "cell_type": "code",
   "execution_count": 428,
   "id": "c7ddf996-f4d3-4fff-8523-ba6db0830952",
   "metadata": {},
   "outputs": [],
   "source": [
    "results_df['model']=results_df.index"
   ]
  },
  {
   "cell_type": "code",
   "execution_count": 429,
   "id": "fa040b1c-b6f4-4d10-ac7f-150d6fdeb903",
   "metadata": {},
   "outputs": [
    {
     "data": {
      "image/png": "[encoded data removed]",
      "text/plain": [
       "<Figure size 640x480 with 1 Axes>"
      ]
     },
     "metadata": {},
     "output_type": "display_data"
    }
   ],
   "source": [
    "sns.lineplot(data=pd.melt(results_df,id_vars='model'), x=\"model\", y=\"value\", hue=\"variable\",markers=True)\n",
    "plt.xticks(\n",
    "    results_df['model'], # Odd rows only\n",
    ")\n",
    "plt.ylabel('Training / Test Accuracy')\n",
    "plt.xlabel('Tested Model')\n",
    "plt.suptitle('Logistic Regression Models')\n",
    "plt.show()"
   ]
  },
  {
   "cell_type": "code",
   "execution_count": 430,
   "id": "3ca233d1-b8e5-47ed-ad4b-90c9e4db50f3",
   "metadata": {},
   "outputs": [
    {
     "name": "stdout",
     "output_type": "stream",
     "text": [
      "['Intercept', 'cp_0[T.True]', 'restecg_0[T.True]', 'ca_0[T.True]', 'thal_2[T.True]', 'exang_1[T.True]:chol', 'cp_2[T.True]:thalach', 'oldpeak']\n",
      "['Intercept', 'cp_0[T.True]', 'restecg_0[T.True]', 'restecg_2[T.True]', 'ca_0[T.True]', 'thal_2[T.True]', 'exang_1[T.True]:chol', 'cp_2[T.True]:thalach', 'oldpeak']\n"
     ]
    }
   ],
   "source": [
    "# best performing models 0,1 and 6\n",
    "#print(f'{selected_vars_output[0]}')\n",
    "print(f'{selected_vars_output[5]}')\n",
    "print(f'{selected_vars_output[6]}')"
   ]
  },
  {
   "cell_type": "markdown",
   "id": "a384045a-3b7d-43a0-96bc-29ba22f9d2c8",
   "metadata": {},
   "source": [
    "### 4.3 Add Main Effect Variables to the Models"
   ]
  },
  {
   "cell_type": "code",
   "execution_count": 431,
   "id": "7e2bfdb0-f22c-4b2f-b0da-b45e9950a320",
   "metadata": {},
   "outputs": [],
   "source": [
    "# add main effect variables to the models\n",
    "selected_vars_output_upd=selected_vars_output\n",
    "selected_vars_output_upd[10]=selected_vars_output[5]+['chol','thalach','exang_1[T.True]']\n",
    "selected_vars_output_upd[11]=selected_vars_output[6]+['chol','thalach','exang_1[T.True]']\n",
    "selected_vars_output_upd[12]=selected_vars_output[6]+['chol','thalach','exang_1[T.True]','sex_1[T.True]']\n",
    "model_nums_upd=model_nums+[10,11,12]"
   ]
  },
  {
   "cell_type": "code",
   "execution_count": 432,
   "id": "667f9034-6525-4afc-8e02-5229ab75ed3b",
   "metadata": {},
   "outputs": [],
   "source": [
    "# get the indices for all selected variables in models\n",
    "selected_index_output={}\n",
    "for j in model_nums_upd:\n",
    "    selected_index_output[j]=[column_dict[x] for x in selected_vars_output_upd[j]]"
   ]
  },
  {
   "cell_type": "code",
   "execution_count": 433,
   "id": "3db5fde6-2251-495a-a53e-53f2ecbc42bf",
   "metadata": {},
   "outputs": [
    {
     "name": "stderr",
     "output_type": "stream",
     "text": [
      "INFO - Estimating models and scores for all models\n",
      "INFO - Calculated all accuracy scores\n"
     ]
    }
   ],
   "source": [
    "models_all_output={}\n",
    "training_scores_output={}\n",
    "testing_scores_output={}\n",
    "logger.info(\"Estimating models and scores for all models\")\n",
    "for j in model_nums_upd:\n",
    "    models_all_output[j]=clf_no_intercept.fit(X_train[:,selected_index_output[j]],y_train.reshape(y_train.shape[0]))\n",
    "    training_scores_output[j]=models_all_output[j].score(X_train[:,selected_index_output[j]],y_train.reshape(y_train.shape[0]))\n",
    "    testing_scores_output[j]=models_all_output[j].score(X_test[:,selected_index_output[j]],y_test.reshape(y_test.shape[0]))\n",
    "logger.info(\"Calculated all accuracy scores\")"
   ]
  },
  {
   "cell_type": "code",
   "execution_count": 434,
   "id": "f0046946-2e9b-4ebe-8695-71fd7e22387b",
   "metadata": {},
   "outputs": [],
   "source": [
    "results_df=pd.concat([pd.DataFrame.from_dict(training_scores_output,orient='index'),pd.DataFrame.from_dict(testing_scores_output,orient='index')]\n",
    "          ,axis='columns',ignore_index=False)\n",
    "results_df.columns=['training_scores','test_scores']"
   ]
  },
  {
   "cell_type": "code",
   "execution_count": 435,
   "id": "dadc9e6f-0e32-477a-b5e4-32191eb3f9b9",
   "metadata": {},
   "outputs": [],
   "source": [
    "results_df['model']=results_df.index"
   ]
  },
  {
   "cell_type": "code",
   "execution_count": 436,
   "id": "0e410e0a-fd13-4fd0-bea4-7796b0f96b50",
   "metadata": {},
   "outputs": [
    {
     "data": {
      "image/png": "[encoded data removed]",
      "text/plain": [
       "<Figure size 640x480 with 1 Axes>"
      ]
     },
     "metadata": {},
     "output_type": "display_data"
    }
   ],
   "source": [
    "sns.lineplot(data=pd.melt(results_df,id_vars='model'), x=\"model\", y=\"value\", hue=\"variable\",markers=True)\n",
    "plt.xticks(\n",
    "    results_df['model'], \n",
    ")\n",
    "plt.ylabel('Training / Test Accuracy')\n",
    "plt.xlabel('Tested Model')\n",
    "plt.suptitle('Logistic Regression Models')\n",
    "plt.show()"
   ]
  },
  {
   "cell_type": "code",
   "execution_count": 437,
   "id": "5b52d3fe-cb00-41dd-93a9-22b6723cbb86",
   "metadata": {},
   "outputs": [
    {
     "data": {
      "text/html": [
       "<div>\n",
       "<style scoped>\n",
       "    .dataframe tbody tr th:only-of-type {\n",
       "        vertical-align: middle;\n",
       "    }\n",
       "\n",
       "    .dataframe tbody tr th {\n",
       "        vertical-align: top;\n",
       "    }\n",
       "\n",
       "    .dataframe thead th {\n",
       "        text-align: right;\n",
       "    }\n",
       "</style>\n",
       "<table border=\"1\" class=\"dataframe\">\n",
       "  <thead>\n",
       "    <tr style=\"text-align: right;\">\n",
       "      <th></th>\n",
       "      <th>training_scores</th>\n",
       "      <th>test_scores</th>\n",
       "      <th>model</th>\n",
       "    </tr>\n",
       "  </thead>\n",
       "  <tbody>\n",
       "    <tr>\n",
       "      <th>0</th>\n",
       "      <td>0.776860</td>\n",
       "      <td>0.786885</td>\n",
       "      <td>0</td>\n",
       "    </tr>\n",
       "    <tr>\n",
       "      <th>1</th>\n",
       "      <td>0.805785</td>\n",
       "      <td>0.868852</td>\n",
       "      <td>1</td>\n",
       "    </tr>\n",
       "    <tr>\n",
       "      <th>2</th>\n",
       "      <td>0.838843</td>\n",
       "      <td>0.868852</td>\n",
       "      <td>2</td>\n",
       "    </tr>\n",
       "    <tr>\n",
       "      <th>3</th>\n",
       "      <td>0.842975</td>\n",
       "      <td>0.852459</td>\n",
       "      <td>3</td>\n",
       "    </tr>\n",
       "    <tr>\n",
       "      <th>4</th>\n",
       "      <td>0.855372</td>\n",
       "      <td>0.868852</td>\n",
       "      <td>4</td>\n",
       "    </tr>\n",
       "    <tr>\n",
       "      <th>5</th>\n",
       "      <td>0.863636</td>\n",
       "      <td>0.868852</td>\n",
       "      <td>5</td>\n",
       "    </tr>\n",
       "    <tr>\n",
       "      <th>6</th>\n",
       "      <td>0.863636</td>\n",
       "      <td>0.868852</td>\n",
       "      <td>6</td>\n",
       "    </tr>\n",
       "    <tr>\n",
       "      <th>7</th>\n",
       "      <td>0.863636</td>\n",
       "      <td>0.852459</td>\n",
       "      <td>7</td>\n",
       "    </tr>\n",
       "    <tr>\n",
       "      <th>8</th>\n",
       "      <td>0.863636</td>\n",
       "      <td>0.852459</td>\n",
       "      <td>8</td>\n",
       "    </tr>\n",
       "    <tr>\n",
       "      <th>9</th>\n",
       "      <td>0.863636</td>\n",
       "      <td>0.852459</td>\n",
       "      <td>9</td>\n",
       "    </tr>\n",
       "    <tr>\n",
       "      <th>10</th>\n",
       "      <td>0.842975</td>\n",
       "      <td>0.885246</td>\n",
       "      <td>10</td>\n",
       "    </tr>\n",
       "    <tr>\n",
       "      <th>11</th>\n",
       "      <td>0.842975</td>\n",
       "      <td>0.885246</td>\n",
       "      <td>11</td>\n",
       "    </tr>\n",
       "    <tr>\n",
       "      <th>12</th>\n",
       "      <td>0.867769</td>\n",
       "      <td>0.868852</td>\n",
       "      <td>12</td>\n",
       "    </tr>\n",
       "  </tbody>\n",
       "</table>\n",
       "</div>"
      ],
      "text/plain": [
       "    training_scores  test_scores  model\n",
       "0          0.776860     0.786885      0\n",
       "1          0.805785     0.868852      1\n",
       "2          0.838843     0.868852      2\n",
       "3          0.842975     0.852459      3\n",
       "4          0.855372     0.868852      4\n",
       "5          0.863636     0.868852      5\n",
       "6          0.863636     0.868852      6\n",
       "7          0.863636     0.852459      7\n",
       "8          0.863636     0.852459      8\n",
       "9          0.863636     0.852459      9\n",
       "10         0.842975     0.885246     10\n",
       "11         0.842975     0.885246     11\n",
       "12         0.867769     0.868852     12"
      ]
     },
     "execution_count": 437,
     "metadata": {},
     "output_type": "execute_result"
    }
   ],
   "source": [
    "results_df"
   ]
  },
  {
   "cell_type": "markdown",
   "id": "91a00001-6649-441d-9a3f-4a75a0c5702d",
   "metadata": {},
   "source": [
    "### 4.4 Estimate Final Models "
   ]
  },
  {
   "cell_type": "code",
   "execution_count": 403,
   "id": "f577c95a-c386-4c98-8096-8681ba130b29",
   "metadata": {},
   "outputs": [],
   "source": [
    "m1=11\n",
    "m2=12"
   ]
  },
  {
   "cell_type": "code",
   "execution_count": 404,
   "id": "1d8a038a-3206-42b2-990c-492e3943c531",
   "metadata": {},
   "outputs": [
    {
     "name": "stdout",
     "output_type": "stream",
     "text": [
      "Optimization terminated successfully.\n",
      "         Current function value: 0.339280\n",
      "         Iterations 7\n",
      "                           Logit Regression Results                           \n",
      "==============================================================================\n",
      "Dep. Variable:                      y   No. Observations:                  303\n",
      "Model:                          Logit   Df Residuals:                      291\n",
      "Method:                           MLE   Df Model:                           11\n",
      "Date:                Wed, 09 Aug 2023   Pseudo R-squ.:                  0.5077\n",
      "Time:                        15:43:18   Log-Likelihood:                -102.80\n",
      "converged:                       True   LL-Null:                       -208.82\n",
      "Covariance Type:            nonrobust   LLR p-value:                 2.352e-39\n",
      "========================================================================================\n",
      "                           coef    std err          z      P>|z|      [0.025      0.975]\n",
      "----------------------------------------------------------------------------------------\n",
      "Intercept               -0.6552      0.428     -1.532      0.126      -1.493       0.183\n",
      "cp_0[T.True]            -1.6320      0.385     -4.237      0.000      -2.387      -0.877\n",
      "restecg_0[T.True]       -0.5950      0.369     -1.613      0.107      -1.318       0.128\n",
      "restecg_2[T.True]       -0.2866      1.990     -0.144      0.885      -4.186       3.613\n",
      "ca_0[T.True]             2.0105      0.379      5.311      0.000       1.269       2.752\n",
      "thal_2[T.True]           1.7695      0.369      4.800      0.000       1.047       2.492\n",
      "exang_1[T.True]:chol    -0.3608      0.424     -0.850      0.395      -1.192       0.471\n",
      "cp_2[T.True]:thalach     0.6637      0.505      1.315      0.188      -0.325       1.653\n",
      "oldpeak                 -0.7778      0.231     -3.372      0.001      -1.230      -0.326\n",
      "chol                    -0.0088      0.199     -0.044      0.965      -0.398       0.380\n",
      "thalach                  0.1188      0.227      0.524      0.601      -0.326       0.564\n",
      "exang_1[T.True]         -0.7682      0.415     -1.851      0.064      -1.582       0.045\n",
      "========================================================================================\n"
     ]
    }
   ],
   "source": [
    "model12_sm=sm.Logit(np.asarray(y_scale),pd.DataFrame(X_scale[:,selected_index_output[m1]],\n",
    "                                                     columns=selected_vars_output_upd[m1])).fit()\n",
    "print(model12_sm.summary())"
   ]
  },
  {
   "cell_type": "code",
   "execution_count": 405,
   "id": "fa71e110-8e29-4fe9-9b95-d9a317a4a761",
   "metadata": {},
   "outputs": [
    {
     "name": "stdout",
     "output_type": "stream",
     "text": [
      "Optimization terminated successfully.\n",
      "         Current function value: 0.326827\n",
      "         Iterations 7\n",
      "                           Logit Regression Results                           \n",
      "==============================================================================\n",
      "Dep. Variable:                      y   No. Observations:                  303\n",
      "Model:                          Logit   Df Residuals:                      290\n",
      "Method:                           MLE   Df Model:                           12\n",
      "Date:                Wed, 09 Aug 2023   Pseudo R-squ.:                  0.5258\n",
      "Time:                        15:44:31   Log-Likelihood:                -99.029\n",
      "converged:                       True   LL-Null:                       -208.82\n",
      "Covariance Type:            nonrobust   LLR p-value:                 2.900e-40\n",
      "========================================================================================\n",
      "                           coef    std err          z      P>|z|      [0.025      0.975]\n",
      "----------------------------------------------------------------------------------------\n",
      "Intercept                0.5443      0.621      0.876      0.381      -0.674       1.762\n",
      "cp_0[T.True]            -1.6882      0.390     -4.331      0.000      -2.452      -0.924\n",
      "restecg_0[T.True]       -0.5003      0.374     -1.339      0.181      -1.233       0.232\n",
      "restecg_2[T.True]       -0.7482      1.972     -0.379      0.704      -4.613       3.117\n",
      "ca_0[T.True]             1.9639      0.384      5.119      0.000       1.212       2.716\n",
      "thal_2[T.True]           1.3317      0.396      3.365      0.001       0.556       2.107\n",
      "exang_1[T.True]:chol    -0.4066      0.439     -0.926      0.354      -1.267       0.454\n",
      "cp_2[T.True]:thalach     0.8799      0.525      1.676      0.094      -0.149       1.909\n",
      "oldpeak                 -0.7158      0.227     -3.155      0.002      -1.160      -0.271\n",
      "chol                    -0.1972      0.219     -0.899      0.369      -0.627       0.233\n",
      "thalach                  0.2053      0.228      0.900      0.368      -0.242       0.653\n",
      "exang_1[T.True]         -0.8013      0.426     -1.880      0.060      -1.637       0.034\n",
      "sex_1[T.True]           -1.3358      0.500     -2.673      0.008      -2.315      -0.357\n",
      "========================================================================================\n"
     ]
    }
   ],
   "source": [
    "model13_sm=sm.Logit(np.asarray(y_scale),pd.DataFrame(X_scale[:,selected_index_output[m2]],\n",
    "                                                     columns=selected_vars_output_upd[m2])).fit()\n",
    "print(model13_sm.summary())"
   ]
  },
  {
   "cell_type": "code",
   "execution_count": 451,
   "id": "000e8352-d631-454e-9107-78cfbea1d65c",
   "metadata": {},
   "outputs": [
    {
     "name": "stdout",
     "output_type": "stream",
     "text": [
      "        Logit Marginal Effects       \n",
      "=====================================\n",
      "Dep. Variable:                      y\n",
      "Method:                          dydx\n",
      "At:                           overall\n",
      "========================================================================================\n",
      "                          dy/dx    std err          z      P>|z|      [0.025      0.975]\n",
      "----------------------------------------------------------------------------------------\n",
      "cp_0[T.True]            -0.1715      0.036     -4.709      0.000      -0.243      -0.100\n",
      "restecg_0[T.True]       -0.0625      0.038     -1.633      0.102      -0.138       0.013\n",
      "restecg_2[T.True]       -0.0301      0.209     -0.144      0.885      -0.440       0.380\n",
      "ca_0[T.True]             0.2113      0.033      6.419      0.000       0.147       0.276\n",
      "thal_2[T.True]           0.1860      0.033      5.639      0.000       0.121       0.251\n",
      "exang_1[T.True]:chol    -0.0379      0.044     -0.853      0.394      -0.125       0.049\n",
      "cp_2[T.True]:thalach     0.0698      0.053      1.324      0.186      -0.034       0.173\n",
      "oldpeak                 -0.0817      0.023     -3.592      0.000      -0.126      -0.037\n",
      "chol                    -0.0009      0.021     -0.044      0.965      -0.042       0.040\n",
      "thalach                  0.0125      0.024      0.525      0.600      -0.034       0.059\n",
      "exang_1[T.True]         -0.0807      0.043     -1.897      0.058      -0.164       0.003\n",
      "========================================================================================\n"
     ]
    }
   ],
   "source": [
    "margeff_12 = model12_sm.get_margeff(at='overall')\n",
    "print(margeff_12.summary())"
   ]
  },
  {
   "cell_type": "code",
   "execution_count": 407,
   "id": "df25b241-02d8-421a-9ddc-93b6e95e6eea",
   "metadata": {},
   "outputs": [
    {
     "name": "stdout",
     "output_type": "stream",
     "text": [
      "        Logit Marginal Effects       \n",
      "=====================================\n",
      "Dep. Variable:                      y\n",
      "Method:                          dydx\n",
      "At:                           overall\n",
      "========================================================================================\n",
      "                          dy/dx    std err          z      P>|z|      [0.025      0.975]\n",
      "----------------------------------------------------------------------------------------\n",
      "cp_0[T.True]            -0.1702      0.035     -4.876      0.000      -0.239      -0.102\n",
      "restecg_0[T.True]       -0.0505      0.037     -1.349      0.177      -0.124       0.023\n",
      "restecg_2[T.True]       -0.0755      0.199     -0.380      0.704      -0.465       0.314\n",
      "ca_0[T.True]             0.1980      0.032      6.159      0.000       0.135       0.261\n",
      "thal_2[T.True]           0.1343      0.037      3.632      0.000       0.062       0.207\n",
      "exang_1[T.True]:chol    -0.0410      0.044     -0.929      0.353      -0.128       0.045\n",
      "cp_2[T.True]:thalach     0.0887      0.052      1.695      0.090      -0.014       0.191\n",
      "oldpeak                 -0.0722      0.022     -3.352      0.001      -0.114      -0.030\n",
      "chol                    -0.0199      0.022     -0.902      0.367      -0.063       0.023\n",
      "thalach                  0.0207      0.023      0.903      0.366      -0.024       0.066\n",
      "exang_1[T.True]         -0.0808      0.042     -1.923      0.055      -0.163       0.002\n",
      "sex_1[T.True]           -0.1347      0.049     -2.776      0.005      -0.230      -0.040\n",
      "========================================================================================\n"
     ]
    }
   ],
   "source": [
    "margeff_13 = model13_sm.get_margeff()\n",
    "print(margeff_13.summary())"
   ]
  }
 ],
 "metadata": {
  "kernelspec": {
   "display_name": "Python 3 (ipykernel)",
   "language": "python",
   "name": "python3"
  },
  "language_info": {
   "codemirror_mode": {
    "name": "ipython",
    "version": 3
   },
   "file_extension": ".py",
   "mimetype": "text/x-python",
   "name": "python",
   "nbconvert_exporter": "python",
   "pygments_lexer": "ipython3",
   "version": "3.9.6"
  }
 },
 "nbformat": 4,
 "nbformat_minor": 5
}
